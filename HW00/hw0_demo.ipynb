{
  "nbformat": 4,
  "nbformat_minor": 0,
  "metadata": {
    "colab": {
      "name": "HW0.ipynb",
      "provenance": []
    },
    "kernelspec": {
      "name": "python3",
      "display_name": "Python 3"
    },
    "language_info": {
      "name": "python"
    }
  },
  "cells": [
    {
      "cell_type": "markdown",
      "source": [
        "# Demo: Homework 0"
      ],
      "metadata": {
        "id": "69LkOr-svIni"
      }
    },
    {
      "cell_type": "markdown",
      "source": [
        "### Demo 1: Artificial Neural Network\n",
        "\n",
        "Here we will realize the `Equivalence-function`:\n",
        "\n",
        "**Function Definition:**\n",
        "\n",
        "|  x1  |  x2  |  y  |\n",
        "|:---:|:---:|:---:|\n",
        "|0|0|1|\n",
        "|0|1|-1|\n",
        "|1|0|-1|\n",
        "|1|1|1|\n",
        "\n",
        "**Neural Network Architecture:**\n",
        "\n",
        "_Input Layer Neurons:_ 2 \\\n",
        "_Hidden Layer 1 Neurons:_ 5 \\\n",
        "_Hidden Layer 2 Neurons:_ 5 \\\n",
        "_Output Layer Neurons:_ 1 \\\n",
        "\n",
        "_Hidden Layer Activation Function:_ ReLU \\\n",
        "_Output Layer Activation Function:_ sign \\"
      ],
      "metadata": {
        "id": "Cas6sXwZvYGd"
      }
    },
    {
      "cell_type": "code",
      "source": [
        "# Import necessary libraries\n",
        "import numpy as np\n",
        "from sklearn.neural_network import MLPClassifier\n",
        "from sklearn.datasets import make_classification\n",
        "from sklearn.linear_model import LogisticRegression\n",
        "from sklearn.metrics import classification_report\n",
        "from sklearn.model_selection import train_test_split\n"
      ],
      "metadata": {
        "id": "IBXAvMdKxf6T"
      },
      "execution_count": null,
      "outputs": []
    },
    {
      "cell_type": "code",
      "source": [
        "# Prepare training data\n",
        "X = [[0, 0], [0, 1], [1, 0], [1, 1]]\n",
        "y = [1, -1, -1, 1]\n",
        "\n",
        "X = np.array(X)\n",
        "y = np.array(y)"
      ],
      "metadata": {
        "id": "CqdUFjRyyfBf"
      },
      "execution_count": null,
      "outputs": []
    },
    {
      "cell_type": "markdown",
      "source": [
        ""
      ],
      "metadata": {
        "id": "GPhYxSEElb2Z"
      }
    },
    {
      "cell_type": "code",
      "source": [
        "# Define Neural Network According to the architecture\n",
        "nn = MLPClassifier(random_state=1, max_iter=1000, hidden_layer_sizes=(5, 5), activation='relu', alpha=0.001, solver='lbfgs', verbose = True)"
      ],
      "metadata": {
        "id": "BX1Err24ynXz"
      },
      "execution_count": null,
      "outputs": []
    },
    {
      "cell_type": "code",
      "source": [
        "# Train the model\n",
        "trained_nn = nn.fit(X, y)"
      ],
      "metadata": {
        "id": "9H2f9CE-5Mbt"
      },
      "execution_count": null,
      "outputs": []
    },
    {
      "cell_type": "code",
      "source": [
        "# Test the model\n",
        "trained_nn.predict([[0,0], [0, 1], [1, 0], [1, 1]])"
      ],
      "metadata": {
        "colab": {
          "base_uri": "https://localhost:8080/"
        },
        "id": "xk25wFZR0LTY",
        "outputId": "02ed4017-4a40-4af6-8e83-db9322b2e9b6"
      },
      "execution_count": null,
      "outputs": [
        {
          "output_type": "execute_result",
          "data": {
            "text/plain": [
              "array([ 1, -1, -1,  1])"
            ]
          },
          "metadata": {},
          "execution_count": 9
        }
      ]
    },
    {
      "cell_type": "code",
      "source": [
        "# Print weights\n",
        "trained_nn.coefs_"
      ],
      "metadata": {
        "colab": {
          "base_uri": "https://localhost:8080/"
        },
        "id": "Uw8O5Q5v5rJ1",
        "outputId": "57a3d9fe-e0dc-429d-f1e4-d269e764b473"
      },
      "execution_count": null,
      "outputs": [
        {
          "output_type": "execute_result",
          "data": {
            "text/plain": [
              "[array([[ 0.0090549 ,  1.51590662,  0.0545496 ,  2.03893339,  0.03854747],\n",
              "        [ 0.04448571, -1.51606807,  0.01685306, -2.03911612, -0.00423584]]),\n",
              " array([[-0.01556365,  0.00755006, -0.00535837,  0.03283261,  0.02756328],\n",
              "        [ 0.17404971, -1.44587962,  0.02557346, -0.09420408,  1.84110888],\n",
              "        [-0.03602752,  0.03788539,  0.04208422,  0.03014443, -0.03452435],\n",
              "        [-2.28824107,  1.14639738,  0.08400236, -0.62463022,  1.61767344],\n",
              "        [ 0.01684339, -0.0170275 , -0.03055127,  0.0439802 , -0.02283813]]),\n",
              " array([[-2.14461531],\n",
              "        [ 1.77578242],\n",
              "        [-0.011636  ],\n",
              "        [-0.50409231],\n",
              "        [-2.56714284]])]"
            ]
          },
          "metadata": {},
          "execution_count": 10
        }
      ]
    },
    {
      "cell_type": "markdown",
      "source": [
        "### Demo 2: Logistic Regression"
      ],
      "metadata": {
        "id": "gwuOYZrZ6HsR"
      }
    },
    {
      "cell_type": "code",
      "source": [
        "# Here we are generating some random data\n",
        "X, y = make_classification(n_samples=100, random_state=1)"
      ],
      "metadata": {
        "id": "TXRuDxWq6MjR"
      },
      "execution_count": null,
      "outputs": []
    },
    {
      "cell_type": "code",
      "source": [
        "# Splitting Data into train and test set\n",
        "X_train, X_test, y_train, y_test = train_test_split(X, y, stratify=y, random_state=1, test_size=0.2)"
      ],
      "metadata": {
        "id": "SVNqH9zK6VJD"
      },
      "execution_count": null,
      "outputs": []
    },
    {
      "cell_type": "code",
      "source": [
        "# Define the model\n",
        "logistic_regressor = LogisticRegression(random_state=0)"
      ],
      "metadata": {
        "id": "MrGToQNG6lNa"
      },
      "execution_count": null,
      "outputs": []
    },
    {
      "cell_type": "code",
      "source": [
        "# Train the model\n",
        "trained_model = logistic_regressor.fit(X_train, y_train)"
      ],
      "metadata": {
        "id": "nc3TeDbA7G3-"
      },
      "execution_count": null,
      "outputs": []
    },
    {
      "cell_type": "code",
      "source": [
        "# Make predictions\n",
        "predictions = trained_model.predict(X_test)"
      ],
      "metadata": {
        "id": "z9jbyzfC7PXu"
      },
      "execution_count": null,
      "outputs": []
    },
    {
      "cell_type": "code",
      "source": [
        "# Evaluate Model Performance\n",
        "print(classification_report(y_test, predictions))"
      ],
      "metadata": {
        "colab": {
          "base_uri": "https://localhost:8080/"
        },
        "id": "ze2dbgPW7boy",
        "outputId": "1571f5a5-a88a-4a3b-d6ee-10fa36833900"
      },
      "execution_count": null,
      "outputs": [
        {
          "output_type": "stream",
          "name": "stdout",
          "text": [
            "              precision    recall  f1-score   support\n",
            "\n",
            "           0       0.83      1.00      0.91        10\n",
            "           1       1.00      0.80      0.89        10\n",
            "\n",
            "    accuracy                           0.90        20\n",
            "   macro avg       0.92      0.90      0.90        20\n",
            "weighted avg       0.92      0.90      0.90        20\n",
            "\n"
          ]
        }
      ]
    }
  ]
}