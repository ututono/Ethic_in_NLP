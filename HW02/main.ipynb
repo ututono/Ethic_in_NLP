{
 "cells": [
  {
   "cell_type": "markdown",
   "source": [
    "# Homework 02"
   ],
   "metadata": {
    "collapsed": false,
    "pycharm": {
     "name": "#%% md\n"
    }
   }
  },
  {
   "cell_type": "code",
   "execution_count": 93,
   "outputs": [],
   "source": [
    "import pandas as pd\n",
    "import numpy as np\n",
    "import re\n",
    "import random\n",
    "import os\n",
    "import shutil\n",
    "# !pip install tensorflow_datasets\n",
    "# ! pip install tensorflow --upgrade\n",
    "import tensorflow as tf\n",
    "import tensorflow_datasets as tfds\n",
    "from tensorflow.keras import models, layers, preprocessing, optimizers, losses, metrics\n",
    "tfds.disable_progress_bar()\n",
    "import nltk\n",
    "from nltk.corpus import stopwords\n",
    "import keras.layers\n",
    "from keras import backend as K\n",
    "\n",
    "import matplotlib.pyplot as plt\n",
    "\n",
    "tf.get_logger().setLevel('ERROR')"
   ],
   "metadata": {
    "collapsed": false,
    "pycharm": {
     "name": "#%%\n"
    }
   }
  },
  {
   "cell_type": "markdown",
   "source": [
    "## Task 1"
   ],
   "metadata": {
    "collapsed": false,
    "pycharm": {
     "name": "#%% md\n"
    }
   }
  },
  {
   "cell_type": "code",
   "execution_count": 3,
   "outputs": [],
   "source": [
    "# Dataset can be download from the website https://strubell.github.io/teaching/11-830/assignments/files/civility_data.tar.gz\n",
    "\n",
    "dev_df=pd.read_csv(\"civility_data/dev.tsv\",sep=\"\\t\",header=0)\n",
    "mini_demodev_df=pd.read_csv(\"civility_data/mini_demographic_dev.tsv\",sep=\"\\t\",header=0)"
   ],
   "metadata": {
    "collapsed": false,
    "pycharm": {
     "name": "#%%\n"
    }
   }
  },
  {
   "cell_type": "code",
   "execution_count": 4,
   "outputs": [],
   "source": [
    "mini_demodev_df=mini_demodev_df.fillna(0)"
   ],
   "metadata": {
    "collapsed": false,
    "pycharm": {
     "name": "#%%\n"
    }
   }
  },
  {
   "cell_type": "code",
   "execution_count": 5,
   "outputs": [],
   "source": [
    "dev_df.loc[dev_df.perspective_score>0.8,\"label_ps\"]='OFF'\n",
    "dev_df.loc[dev_df.perspective_score<=0.8,\"label_ps\"]='NOT'"
   ],
   "metadata": {
    "collapsed": false,
    "pycharm": {
     "name": "#%%\n"
    }
   }
  },
  {
   "cell_type": "code",
   "execution_count": 6,
   "outputs": [],
   "source": [
    "mini_demodev_df.loc[mini_demodev_df.perspective_score>0.8,\"label_ps\"]='OFF'\n",
    "mini_demodev_df.loc[mini_demodev_df.perspective_score<=0.8,\"label_ps\"]=\"NOT\""
   ],
   "metadata": {
    "collapsed": false,
    "pycharm": {
     "name": "#%%\n"
    }
   }
  },
  {
   "cell_type": "code",
   "execution_count": 7,
   "outputs": [],
   "source": [
    "class Matrics:\n",
    "    def __init__(self,targets,gold):\n",
    "        self.tp=0\n",
    "        self.tn=0\n",
    "        self.fp=0\n",
    "        self.fn=0\n",
    "        self.targetsize=len(targets)\n",
    "        for i in range(len(targets)):\n",
    "            if targets[i] ==1. and gold[i] ==1.: # classify offensive claim as OFF\n",
    "                self.tp+=1\n",
    "            elif targets[i] == 0. and gold[i] == 0.: # classify non-offensive claim as NOT\n",
    "                self.tn+=1\n",
    "            elif targets[i] == 0. and gold[i] ==1.: # classify offensive claim as NOT\n",
    "                self.fp+=1\n",
    "            elif targets[i] == 1. and gold[i]== 0.: # classify non-offensive claim as OFF\n",
    "                self.fn+=1\n",
    "\n",
    "    def f1_score(self):\n",
    "        p=self.precision()\n",
    "        r=self.recall()\n",
    "        return 2*((p*r)/(p+r))\n",
    "\n",
    "    def precision(self):\n",
    "        tp=self.tp\n",
    "        fp=self.fp\n",
    "        return tp/(tp+fp)\n",
    "\n",
    "    def recall(self):\n",
    "        tp = self.tp\n",
    "        fn = self.fn\n",
    "        return tp/(tp+fn)\n",
    "\n",
    "    def accuracy(self,targets,gold):\n",
    "        right=0\n",
    "        for x,y in zip(targets,gold):\n",
    "            if x==y:\n",
    "                right+=1\n",
    "        return right/len(targets)\n",
    "\n",
    "    def PFR_score(self):\n",
    "        return self.fn/self.targetsize\n",
    "\n",
    "    def summary(self,targets,golds):\n",
    "        print(\"The accuracy is {0}\".format(self.accuracy(targets,golds)))\n",
    "        print(\"The F1_score is {0}\".format(self.f1_score()))\n",
    "\n",
    "def normalize_label(labels):\n",
    "    '''\n",
    "    encode label to 0,1. 'OFF' to 1, 'NOT' to 0\n",
    "    '''\n",
    "    labels_encoded=[]\n",
    "    for label in labels:\n",
    "        if label=='OFF':\n",
    "            labels_encoded.append(1)\n",
    "        elif label=='NOT':\n",
    "            labels_encoded.append(0)\n",
    "    if len(labels_encoded)!=len(labels):\n",
    "        raise ValueError\n",
    "    else:\n",
    "        return labels_encoded\n"
   ],
   "metadata": {
    "collapsed": false,
    "pycharm": {
     "name": "#%%\n"
    }
   }
  },
  {
   "cell_type": "code",
   "execution_count": 8,
   "outputs": [
    {
     "name": "stdout",
     "output_type": "stream",
     "text": [
      "------------------------------1.1.b Starting ------------------------------\n",
      "The accuracy is 0.7643504531722054\n",
      "The F1_score is 0.4851485148514852\n",
      "------------------------------1.1.b Ending ------------------------------\n"
     ]
    }
   ],
   "source": [
    "print('-'*30+'1.1.b Starting '+'-'*30)\n",
    "dev_y=dev_df.label.tolist()\n",
    "dev_X=dev_df.label_ps.tolist()\n",
    "dev_y=normalize_label(dev_y)\n",
    "dev_X=normalize_label(dev_X)\n",
    "m=Matrics(dev_X,dev_y)\n",
    "m.summary(dev_X,dev_y)\n",
    "print('-'*30+'1.1.b Ending '+'-'*30)"
   ],
   "metadata": {
    "collapsed": false,
    "pycharm": {
     "name": "#%%\n"
    }
   }
  },
  {
   "cell_type": "code",
   "execution_count": 9,
   "outputs": [
    {
     "name": "stdout",
     "output_type": "stream",
     "text": [
      "------------------------------1.1.c Starting ------------------------------\n",
      "The False Positive Rate is 0.08063880126182965\n",
      "------------------------------1.1.c Ending ------------------------------\n"
     ]
    }
   ],
   "source": [
    "print('-'*30+'1.1.c Starting '+'-'*30)\n",
    "mini_demodev_X=mini_demodev_df.label_ps.tolist()\n",
    "mini_demodev_X=normalize_label(mini_demodev_X)\n",
    "mini_demodev_y=np.zeros(len(mini_demodev_X)).tolist()\n",
    "m=Matrics(mini_demodev_X,mini_demodev_y)\n",
    "print(\"The False Positive Rate is {0}\".format(m.PFR_score()))\n",
    "print('-'*30+'1.1.c Ending '+'-'*30)"
   ],
   "metadata": {
    "collapsed": false,
    "pycharm": {
     "name": "#%%\n"
    }
   }
  },
  {
   "cell_type": "code",
   "execution_count": 10,
   "outputs": [
    {
     "name": "stdout",
     "output_type": "stream",
     "text": [
      "==============================1.2 Custom Classifier Starting ==============================\n"
     ]
    }
   ],
   "source": [
    "print('='*30+'1.2 Custom Classifier Starting '+'='*30)"
   ],
   "metadata": {
    "collapsed": false,
    "pycharm": {
     "name": "#%%\n"
    }
   }
  },
  {
   "cell_type": "code",
   "execution_count": 100,
   "outputs": [],
   "source": [
    "random.seed(42)\n",
    "tf.random.set_seed(42)\n",
    "\n",
    "def normalize_label(labels):\n",
    "    '''\n",
    "    encode label to 0,1. 'OFF' to 1, 'NOT' to 0\n",
    "    '''\n",
    "    labels_encoded=[]\n",
    "    for label in labels:\n",
    "        if label=='OFF':\n",
    "            labels_encoded.append((0,1))\n",
    "        elif label=='NOT':\n",
    "            labels_encoded.append((1,0))\n",
    "    if len(labels_encoded)!=len(labels):\n",
    "        raise ValueError\n",
    "    else:\n",
    "        return labels_encoded\n",
    "\n",
    "\n",
    "def df_to_dataset(dataframe, shuffle=True, batch_size=32):\n",
    "  dataframe = dataframe.copy()\n",
    "  labels = dataframe.pop('label')\n",
    "  labels=np.array(normalize_label(labels))\n",
    "  ds = tf.data.Dataset.from_tensor_slices((dataframe.text.values,labels)) #create a dataset is to create it from a list\n",
    "  if shuffle:\n",
    "    ds = ds.shuffle(buffer_size=len(dataframe))\n",
    "  ds = ds.batch(batch_size) #Combines consecutive elements of this dataset into batches\n",
    "  ds = ds.prefetch(batch_size) # Creates a Dataset that prefetches (pre-processing) elements from this dataset.\n",
    "  return ds\n",
    "\n",
    "\n",
    "\n",
    "def read_data(filepath,batch_size=50):\n",
    "    df = pd.read_csv(filepath,sep='\\t',header=0)\n",
    "    batch_size=batch_size\n",
    "    df.text=df.text.apply(lambda x : preprocessing(x))\n",
    "\n",
    "    train_ds = df_to_dataset(df, batch_size=batch_size)\n",
    "\n",
    "    return train_ds\n",
    "\n",
    "def preprocessing(sentence):\n",
    "    # remove @User\n",
    "    # result=' '.join(re.sub(\"(@[A-Za-z0-9]+)\",\" \",sentence).split())\n",
    "    restr=r\"(?i)\\b((?:https?://|www\\d{0,3}[.]|[a-z0-9.\\-]+[.][a-z]{2,4}/)(?:[^\\s()<>]+|\\(([^\\s()<>]+|(\\([^\\s()<>]+\\)))*\\))+(?:\\(([^\\s()<>]+|(\\([^\\s()<>]+\\)))*\\)|[^\\s`!()\\[\\]{};:'\\\".,<>?«»“”‘’]))\"\n",
    "    text_noURL=re.sub(restr,\" \", sentence)\n",
    "    text_noHashTag=re.sub(\"#\",\" \", text_noURL)\n",
    "    text_noHashTag=re.sub(\"(@[A-Za-z0-9]+)\",\" \",text_noHashTag)\n",
    "    text_noPunc=re.sub(\"[^a-zA-Z#]\",\" \", text_noHashTag)\n",
    "    words=[word for word in text_noPunc.lower().split() if word not in stopwords.words(\"english\")]\n",
    "    result=' '.join(words)\n",
    "\n",
    "    # remove punctuation\n",
    "\n",
    "\n",
    "\n",
    "    return result\n",
    "\n",
    "# tmp='Yes you are but I was asking what is it @User about the movie ?🤷‍♂️👀\t'\n",
    "# preprocessing(tmp)\n",
    "# train=read_data(\"civility_data/train.tsv\")\n",
    "# dev=read_data(\"civility_data/dev.tsv\")\n"
   ],
   "metadata": {
    "collapsed": false,
    "pycharm": {
     "name": "#%%\n"
    }
   }
  },
  {
   "cell_type": "code",
   "execution_count": 66,
   "outputs": [
    {
     "name": "stdout",
     "output_type": "stream",
     "text": [
      "text:  [b'gun control keep terrorists shooting'\n",
      " b'look date tweet telling sure maga url'\n",
      " b'ford knew moment came forward anonymously name would get effort stall kavanaugh nomination yo accusations knowingly proven throw mud last minute resistance looks like'\n",
      " b'needs placed naked stocks stockholm swedish people sik heil backside'\n",
      " b'hillary clinton potus oops'\n",
      " b'president trump order declassify fisa docs text messages proves keeping campaign promise working draintheswamp breaking fisadocs declassified deepstatecorruption politics maga'\n",
      " b'amen ready' b'like holy jesus fucken christ'\n",
      " b'zac goldsmith faux conservative party use faux conservative party use khan defence organiser conservatives f cking useless ask deliberate share labour agenda useless'\n",
      " b'following anyway' b'christian' b'pope say sinner yet unveiled'\n",
      " b'gun control' b'go figure' b'want societal dregs take look antifa'\n",
      " b'lib registered democrat thats need know'\n",
      " b'republicans love say early talk common sense gun control events really want people forget amnesia kick ignore jobs protect public gun control works r procrastinate'\n",
      " b'maybe provided play form hate groups criticism criticism lite bashing antifa zero analysis'\n",
      " b'framers constitution primarily white anglo saxon men might tell us modern day anti federalists antifa movement extremes might go url url'\n",
      " b'today even wear hoods actually proud show faces unless course terrorist wing antifa crybaby wing resistance url'\n",
      " b'arrest immediately wicked crazy democrat'\n",
      " b'sure mild increase fl new rs ds url texas url nv shows increase url struck small role gun control seems playing election'\n",
      " b'liberals numbers money conservatives would get smoked kansas alone gets beat inside hours'\n",
      " b'yes keep voting new reich brussels get result want call another referendum see happens go away liberals finished'\n",
      " b'perfect part im' b'rapid dog' b'drew cat gorl work streaming url'\n",
      " b'type iphone user loves taking pictures etc go gb'\n",
      " b'students vote literally giving votes respect race gender gun free schools gun control charged student loans clean water drinking bathing climate denying polluters students must vote complain late'\n",
      " b'hopefully conservatives welcomed'\n",
      " b'agree trump nazi sympathizer sandy hook hoax gun control right hitler playbook bloomberg nazi comes gun control dems need moderate'\n",
      " b'obama holder cops getting killed year hated law enforcement encouraged civil unrest'\n",
      " b'liberals want gun control gun free zones'\n",
      " b'forget antifa acorn terrorist obama palled around hahahahahha listen malarkey'\n",
      " b'drunk rape fault drunk rape fault said one except crying liberals making stuff guys laughable'\n",
      " b'day free dead ass serious call talking come get cause imma block yo ass'\n",
      " b'yet siding still wanting believe trust remember broken promises remember treated students one answer vote put power jc pmnow'\n",
      " b'earlier said unfazed determined going confirm judge kavanaugh presumably behalf chairman grassley say liberals fault work basically said serious accusations potential assault mention lying url'\n",
      " b'one way look charge bullshit almost everyone'\n",
      " b'asshole much nerve unreal'\n",
      " b'dead even office likely command news cycle long time'\n",
      " b'amazing liberals believe lie supports agenda ford lady right loony tunes liar kavanaugh mother ruled parents court years ago ford scrubbed social media accounts hide true leftist activism liar'\n",
      " b'gov brown needs class maga also need swift kick pants insulating'\n",
      " b'liking direction going needs make happy couples happiness lives'\n",
      " b'rich coming spokesperson organization blocks every commonsense gun control bill every one'\n",
      " b'migration advisory committee says immigration impact infrastructure services could cuts instead'\n",
      " b'persons gun control narrative certainly must believe second amendment'\n",
      " b'shitt pitt perfect wiping seat url'\n",
      " b'shit dez talking jerry cowboys fucking clown ass dude go back'\n",
      " b'desperate whatever takes stay relevant even means jumping hate train hasbeen'\n",
      " b'sexist could crazy gentlewoman lulz'\n",
      " b'compare coffers greg photo op guy walden jamie mccleod skinner see treasure chest millions nra telecom industry anti fair open internet anti reasonable gun control measures exploiting public lands'\n",
      " b'free milk health issue education one nothing education budget'\n",
      " b'yep fbi cia operating like kgb conservatives much like robert kgb mueller'\n",
      " b'always hear say vague words like billionaires say actual names like bezos zuckerberg soros xi purdue fund name billionaire wall streeter funding conservatives name one corrupt really'\n",
      " b'billion dollars lazy puerto ricans lazy corrupt us cut pr loose entirely'\n",
      " b'ever hear hillary beeching amp moaning dang witch never get tired complaining'\n",
      " b'care hurts long happy could anyone attend sham church'\n",
      " b'dc republicans weak quasi conservatives best'\n",
      " b'brexit dangled another fictional carrot conservatives increase social housing know happening months meant stupid trump supporters swallow propaganda'\n",
      " b'parasitic lump' b'bitch hood serving junkies maybach'\n",
      " b'boom maybe book deal isnt good idea fisadeclassification maga qanon trustsessions wow corruption runs deep url'\n",
      " b'levistrauss takes stand gun control sanfrancisco levistrauss amp company america safertomorrowfund url url'\n",
      " b'democrats liberals dragged far long american people tired confirm guy move convenient guy confirmed us supreme court justice someone accuses sexual assault high school ridiculous'\n",
      " b'fucking murdered talk marijuana'\n",
      " b'nope fortunate online posted sounded like bullshit first celebs chimed daffy'\n",
      " b'google cfo exec cries election night front crowd podium amp colleagues control elections social media giants support one political ideology exclusively another time treat actions political donations subject fec rules'\n",
      " b'gfy nfl get protection police support military league slowly die road shame'\n",
      " b'liberals uncomfortable'\n",
      " b'thought could dislike anyone father wrong even pathetic children must proud father behaves like tick tock muelleriscomingforyoutoo patheticlittlemanjr'\n",
      " b'coward answer question posted factual staunch conservative pro israel post positive facts counter canadian media helping liberal trudeau assault conservatives israel either ignorant liar'\n",
      " b'omg cute video gif come'\n",
      " b'exactly everyone figured substantiated threats occur liberals conservatives way around farce plain simple made generate sympathy try keep false narrative going'\n",
      " b'mmmhm heard street gave extra seconds get shit together'\n",
      " b'going ask thing know'\n",
      " b'rumbling starting bubble dems listening barrelling mistake dems seriously need stop listen rage building like never seen silence conservatives republicans becoming deafening dems need listen'\n",
      " b'best people maga' b'star tv'\n",
      " b'well thanx proving us right stricter gun control address problem criminals care gun control apply taking means self defense away law abiding ignoring fact criminals use illegal guns']\n",
      "label:  [[1 0]\n",
      " [1 0]\n",
      " [1 0]\n",
      " [0 1]\n",
      " [0 1]\n",
      " [1 0]\n",
      " [1 0]\n",
      " [0 1]\n",
      " [0 1]\n",
      " [1 0]\n",
      " [1 0]\n",
      " [1 0]\n",
      " [1 0]\n",
      " [1 0]\n",
      " [1 0]\n",
      " [1 0]\n",
      " [0 1]\n",
      " [0 1]\n",
      " [1 0]\n",
      " [1 0]\n",
      " [0 1]\n",
      " [1 0]\n",
      " [0 1]\n",
      " [1 0]\n",
      " [1 0]\n",
      " [0 1]\n",
      " [1 0]\n",
      " [1 0]\n",
      " [1 0]\n",
      " [1 0]\n",
      " [0 1]\n",
      " [0 1]\n",
      " [1 0]\n",
      " [0 1]\n",
      " [1 0]\n",
      " [0 1]\n",
      " [1 0]\n",
      " [1 0]\n",
      " [0 1]\n",
      " [0 1]\n",
      " [0 1]\n",
      " [1 0]\n",
      " [0 1]\n",
      " [1 0]\n",
      " [1 0]\n",
      " [1 0]\n",
      " [1 0]\n",
      " [0 1]\n",
      " [0 1]\n",
      " [1 0]\n",
      " [1 0]\n",
      " [1 0]\n",
      " [1 0]\n",
      " [1 0]\n",
      " [1 0]\n",
      " [1 0]\n",
      " [0 1]\n",
      " [1 0]\n",
      " [1 0]\n",
      " [1 0]\n",
      " [0 1]\n",
      " [0 1]\n",
      " [1 0]\n",
      " [1 0]\n",
      " [1 0]\n",
      " [0 1]\n",
      " [1 0]\n",
      " [1 0]\n",
      " [0 1]\n",
      " [1 0]\n",
      " [0 1]\n",
      " [0 1]\n",
      " [1 0]\n",
      " [1 0]\n",
      " [0 1]\n",
      " [1 0]\n",
      " [1 0]\n",
      " [1 0]\n",
      " [0 1]\n",
      " [1 0]]\n"
     ]
    }
   ],
   "source": [
    "for example, label in train.take(1):\n",
    "  print('text: ', example.numpy())\n",
    "  print('label: ', label.numpy())"
   ],
   "metadata": {
    "collapsed": false,
    "pycharm": {
     "name": "#%%\n"
    }
   }
  },
  {
   "cell_type": "code",
   "execution_count": 59,
   "outputs": [],
   "source": [
    "rep=[word for item in text for word in item.split()]"
   ],
   "metadata": {
    "collapsed": false,
    "pycharm": {
     "name": "#%%\n"
    }
   }
  },
  {
   "cell_type": "code",
   "execution_count": 62,
   "outputs": [
    {
     "name": "stdout",
     "output_type": "stream",
     "text": [
      "16356\n"
     ]
    }
   ],
   "source": [
    "print(len(set(rep)))"
   ],
   "metadata": {
    "collapsed": false,
    "pycharm": {
     "name": "#%%\n"
    }
   }
  },
  {
   "cell_type": "code",
   "execution_count": 72,
   "outputs": [],
   "source": [
    "VOCAB_SIZE = 10000\n",
    "encoder = tf.keras.layers.TextVectorization(\n",
    "    max_tokens=VOCAB_SIZE)\n",
    "encoder.adapt(train.map(lambda text, label: text))"
   ],
   "metadata": {
    "collapsed": false,
    "pycharm": {
     "name": "#%%\n"
    }
   }
  },
  {
   "cell_type": "code",
   "execution_count": 73,
   "outputs": [
    {
     "data": {
      "text/plain": "array([[   4,    5,   55,  613,  386,    0,    0,    0,    0,    0,    0,\n           0,    0,    0,    0,    0,    0,    0,    0,    0,    0,    0,\n           0,    0,    0,    0,    0,    0,    0,    0],\n       [  61, 1498,  254,  385,   73,    8,    2,    0,    0,    0,    0,\n           0,    0,    0,    0,    0,    0,    0,    0,    0,    0,    0,\n           0,    0,    0,    0,    0,    0,    0,    0],\n       [ 320,  425,  694,  677,  429,    1,  179,   16,   13, 3273, 3021,\n          53, 1456, 1161,  836, 4762,  524,  799, 3132,  170, 1187,  849,\n         181,    7,    0,    0,    0,    0,    0,    0]], dtype=int64)"
     },
     "execution_count": 73,
     "metadata": {},
     "output_type": "execute_result"
    }
   ],
   "source": [
    "encoded_example = encoder(example)[:3].numpy()\n",
    "encoded_example"
   ],
   "metadata": {
    "collapsed": false,
    "pycharm": {
     "name": "#%%\n"
    }
   }
  },
  {
   "cell_type": "code",
   "execution_count": 74,
   "outputs": [
    {
     "data": {
      "text/plain": "10000"
     },
     "execution_count": 74,
     "metadata": {},
     "output_type": "execute_result"
    },
    {
     "name": "stdout",
     "output_type": "stream",
     "text": [
      "111/265 [===========>..................] - ETA: 41s - loss: 0.5157 - accuracy: 0.7939 - f1_m: 0.6500 - precision_m: 0.8457 - recall_m: 0.5322"
     ]
    }
   ],
   "source": [
    "len(encoder.get_vocabulary())"
   ],
   "metadata": {
    "collapsed": false,
    "pycharm": {
     "name": "#%%\n"
    }
   }
  },
  {
   "cell_type": "code",
   "execution_count": 106,
   "outputs": [
    {
     "name": "stdout",
     "output_type": "stream",
     "text": [
      "------------------------------Starting reading data and preprocessing------------------------------\n",
      "------------------------------End preprocessing------------------------------\n",
      "------------------------------Starting training model------------------------------\n",
      "Epoch 1/3\n",
      "265/265 [==============================] - 85s 261ms/step - loss: 0.6688 - accuracy: 0.6645 - f1_m: 0.1522 - precision_m: 0.3527 - recall_m: 0.1023 - val_loss: 0.6460 - val_accuracy: 0.6677 - val_f1_m: 0.4711 - val_precision_m: 0.6765 - val_recall_m: 0.3662\n",
      "Epoch 2/3\n",
      "265/265 [==============================] - 76s 287ms/step - loss: 0.6173 - accuracy: 0.6803 - f1_m: 0.5103 - precision_m: 0.7356 - recall_m: 0.3945 - val_loss: 0.6020 - val_accuracy: 0.7047 - val_f1_m: 0.5396 - val_precision_m: 0.7711 - val_recall_m: 0.4169\n",
      "Epoch 3/3\n",
      "265/265 [==============================] - 76s 289ms/step - loss: 0.4929 - accuracy: 0.8003 - f1_m: 0.6965 - precision_m: 0.8475 - recall_m: 0.5969 - val_loss: 0.5706 - val_accuracy: 0.7409 - val_f1_m: 0.6699 - val_precision_m: 0.7715 - val_recall_m: 0.5941\n",
      "------------------------------End training model------------------------------\n"
     ]
    },
    {
     "data": {
      "text/plain": "<Figure size 1152x576 with 2 Axes>",
      "image/png": "[encoded data removed]"
     },
     "metadata": {
      "needs_background": "light"
     },
     "output_type": "display_data"
    }
   ],
   "source": [
    "class RNNClassifier:\n",
    "    def __init__(self,modelsavepath='model/my_model.cpdk', modelloadpath='model/my_model.cpdk'):\n",
    "        self.model=self.build_model()\n",
    "        self.MODELSAVEPATH=modelsavepath\n",
    "        self.MODELSAVEPATH=modelloadpath\n",
    "\n",
    "    def build_model(self):\n",
    "        model = tf.keras.Sequential([\n",
    "            encoder,\n",
    "            tf.keras.layers.Embedding(len(encoder.get_vocabulary()), 64, mask_zero=True),\n",
    "            tf.keras.layers.Bidirectional(tf.keras.layers.LSTM(64,  return_sequences=True)),\n",
    "            tf.keras.layers.Bidirectional(tf.keras.layers.LSTM(32)),\n",
    "            tf.keras.layers.Dense(64, activation='relu'),\n",
    "            tf.keras.layers.Dropout(0.5),\n",
    "            tf.keras.layers.Dense(2)\n",
    "        ])\n",
    "\n",
    "\n",
    "        def recall_m(y_true, y_pred):\n",
    "            true_positives = K.sum(K.round(K.clip(y_true * y_pred, 0, 1)))\n",
    "            possible_positives = K.sum(K.round(K.clip(y_true, 0, 1)))\n",
    "            recall = true_positives / (possible_positives + K.epsilon())\n",
    "            return recall\n",
    "\n",
    "        def precision_m(y_true, y_pred):\n",
    "            true_positives = K.sum(K.round(K.clip(y_true * y_pred, 0, 1)))\n",
    "            predicted_positives = K.sum(K.round(K.clip(y_pred, 0, 1)))\n",
    "            precision = true_positives / (predicted_positives + K.epsilon())\n",
    "            return precision\n",
    "\n",
    "        def f1_m(y_true, y_pred):\n",
    "            precision = precision_m(y_true, y_pred)\n",
    "            recall = recall_m(y_true, y_pred)\n",
    "            return 2*((precision*recall)/(precision+recall+K.epsilon()))\n",
    "\n",
    "\n",
    "        model.compile(loss=tf.keras.losses.BinaryCrossentropy(from_logits=True),\n",
    "                      optimizer=tf.keras.optimizers.Adam(1e-4),\n",
    "                      metrics=['accuracy',f1_m,precision_m, recall_m])\n",
    "\n",
    "        return model\n",
    "\n",
    "    def train(self,train,dev,epochs=40):\n",
    "        callback_list=[\n",
    "            keras.callbacks.EarlyStopping(\n",
    "                monitor='val_accuracy',\n",
    "                patience=2,\n",
    "                mode=\"max\"\n",
    "            ),\n",
    "            keras.callbacks.ModelCheckpoint(\n",
    "                filepath=self.MODELSAVEPATH,\n",
    "                monitor='val_loss',\n",
    "                save_weights_only=True,\n",
    "                save_best_only=True,\n",
    "            )\n",
    "        ]\n",
    "        model=self.model\n",
    "        history = model.fit(train, epochs=epochs,validation_data=dev,callbacks=callback_list)\n",
    "        model.save_weights(self.MODELSAVEPATH)\n",
    "        self.loss_figure(history)\n",
    "        self.model=model\n",
    "\n",
    "    def load_weights(self):\n",
    "        self.model=self.load_weights(self.MODELSAVEPATH)\n",
    "\n",
    "    def loss_figure(self,history):\n",
    "        plt.figure(figsize=(16, 8))\n",
    "        plt.subplot(1, 2, 1)\n",
    "        self.plot_graphs(history, 'accuracy')\n",
    "        plt.ylim(None, 1)\n",
    "        plt.subplot(1, 2, 2)\n",
    "        self.plot_graphs(history, 'loss')\n",
    "        plt.ylim(0, None)\n",
    "\n",
    "    def plot_graphs(self,history, metric):\n",
    "      plt.plot(history.history[metric])\n",
    "      plt.plot(history.history['val_'+metric], '')\n",
    "      plt.xlabel(\"Epochs\")\n",
    "      plt.ylabel(metric)\n",
    "      plt.legend([metric, 'val_'+metric])\n",
    "\n",
    "\n",
    "\n",
    "\n",
    "print(\"-\"*30+\"Starting reading data and preprocessing\"+\"-\"*30)\n",
    "train=read_data(\"civility_data/train.tsv\",batch_size=40)\n",
    "dev=read_data(\"civility_data/dev.tsv\",batch_size=40)\n",
    "print(\"-\"*30+\"End preprocessing\"+\"-\"*30)\n",
    "\n",
    "print(\"-\"*30+\"Starting training model\"+\"-\"*30)\n",
    "classifier=RNNClassifier()\n",
    "classifier.train(train,dev)\n",
    "print(\"-\"*30+\"End training model\"+\"-\"*30)\n",
    "\n"
   ],
   "metadata": {
    "collapsed": false,
    "pycharm": {
     "name": "#%%\n"
    }
   }
  },
  {
   "cell_type": "code",
   "execution_count": 109,
   "outputs": [
    {
     "name": "stdout",
     "output_type": "stream",
     "text": [
      "34/34 [==============================] - 3s 91ms/step - loss: 0.5706 - accuracy: 0.7409 - f1_m: 0.6602 - precision_m: 0.7572 - recall_m: 0.5875\n",
      "The accruracy is 0.7409365773200989, the f1-score is 0.6602420210838318\n"
     ]
    }
   ],
   "source": [
    "loss, acc, f1_m, precision_m, recall_m=classifier.model.evaluate(dev)\n",
    "print(\"The accruracy is {0}, the f1-score is {1}\".format(acc,f1_m))"
   ],
   "metadata": {
    "collapsed": false,
    "pycharm": {
     "name": "#%%\n"
    }
   }
  },
  {
   "cell_type": "code",
   "execution_count": 108,
   "outputs": [
    {
     "name": "stdout",
     "output_type": "stream",
     "text": [
      "34/34 [==============================] - 8s 79ms/step\n",
      "The accuracy is 0.5702416918429003\n",
      "The F1_score is 0.28247162673392184\n"
     ]
    }
   ],
   "source": [
    "def predict_class(model,test):\n",
    "    results=[]\n",
    "    matrix=model.predict(test)\n",
    "    for item in matrix:\n",
    "        results.append(np.argmax(item))\n",
    "    return results\n",
    "\n",
    "def devectorize_label(vec_labels):\n",
    "    results=[]\n",
    "    for item in vec_labels:\n",
    "        for label in item:\n",
    "            results.append(np.argmax(label))\n",
    "    return results\n",
    "\n",
    "predictions=predict_class(classifier.model,dev.map(lambda text, label: text))\n",
    "gold_dev_labels=devectorize_label(dev.map(lambda text, label: label))\n",
    "m=Matrics(predictions,gold_dev_labels)\n",
    "m.summary(predictions,gold_dev_labels)"
   ],
   "metadata": {
    "collapsed": false,
    "pycharm": {
     "name": "#%%\n"
    }
   }
  },
  {
   "cell_type": "code",
   "execution_count": null,
   "outputs": [],
   "source": [
    "print(gold_dev_labels)\n"
   ],
   "metadata": {
    "collapsed": false,
    "pycharm": {
     "name": "#%%\n"
    }
   }
  },
  {
   "cell_type": "code",
   "execution_count": 88,
   "outputs": [
    {
     "name": "stdout",
     "output_type": "stream",
     "text": [
      "              precision    recall  f1-score   support\n",
      "\n",
      "           0       0.67      0.67      0.67       884\n",
      "           1       0.33      0.33      0.33       440\n",
      "\n",
      "    accuracy                           0.56      1324\n",
      "   macro avg       0.50      0.50      0.50      1324\n",
      "weighted avg       0.56      0.56      0.56      1324\n",
      "\n"
     ]
    }
   ],
   "source": [
    "from sklearn.metrics import classification_report\n",
    "print(classification_report(gold_dev_labels, predictions))"
   ],
   "metadata": {
    "collapsed": false,
    "pycharm": {
     "name": "#%%\n"
    }
   }
  },
  {
   "cell_type": "code",
   "execution_count": null,
   "outputs": [],
   "source": [
    "\n",
    "\n",
    "# should OFF (0,1)\n",
    "print(model.predict(['People died in PR because the local government is corrupt.']))\n",
    "\n",
    "# should NOT (1,0)\n",
    "print(model.predict(['Dont forget my girl Hillary she is doing the happy dance tonight']))\n",
    "\n",
    "# should OFF (0,1)\n",
    "print(model.predict(['Oh noes! Tough shit']))\n",
    "\n",
    "#should NOT(1,0)\n",
    "print(model.predict([' you are also the king of taste']))"
   ],
   "metadata": {
    "collapsed": false,
    "pycharm": {
     "name": "#%%\n"
    }
   }
  },
  {
   "cell_type": "code",
   "execution_count": null,
   "outputs": [],
   "source": [
    "test_loss, test_acc = model.evaluate(dev)"
   ],
   "metadata": {
    "collapsed": false,
    "pycharm": {
     "name": "#%%\n"
    }
   }
  },
  {
   "cell_type": "code",
   "execution_count": null,
   "outputs": [],
   "source": [
    "model.predict(dev.map(lambda text, label: text))"
   ],
   "metadata": {
    "collapsed": false,
    "pycharm": {
     "name": "#%%\n"
    }
   }
  },
  {
   "cell_type": "code",
   "execution_count": null,
   "outputs": [],
   "source": [
    "sample_text = ('The movie was cool. The animation and the graphics '\n",
    "               'were out of this world. I would recommend this movie.')\n",
    "predictions = model.predict(np.array([sample_text]))\n",
    "print(predictions[0])"
   ],
   "metadata": {
    "collapsed": false,
    "pycharm": {
     "name": "#%%\n"
    }
   }
  },
  {
   "cell_type": "code",
   "execution_count": null,
   "outputs": [],
   "source": [],
   "metadata": {
    "collapsed": false,
    "pycharm": {
     "name": "#%%\n"
    }
   }
  },
  {
   "cell_type": "code",
   "execution_count": null,
   "outputs": [],
   "source": [
    "padding = \"the \" * 2000\n",
    "predictions = model.predict(np.array([sample_text, padding]))\n",
    "print(predictions[0])"
   ],
   "metadata": {
    "collapsed": false,
    "pycharm": {
     "name": "#%%\n"
    }
   }
  },
  {
   "cell_type": "code",
   "execution_count": 89,
   "outputs": [
    {
     "data": {
      "text/plain": "dict_keys(['loss', 'accuracy', 'f1_m', 'precision_m', 'recall_m', 'val_loss', 'val_accuracy', 'val_f1_m', 'val_precision_m', 'val_recall_m'])"
     },
     "execution_count": 89,
     "metadata": {},
     "output_type": "execute_result"
    }
   ],
   "source": [
    "history.history.keys()"
   ],
   "metadata": {
    "collapsed": false,
    "pycharm": {
     "name": "#%%\n"
    }
   }
  },
  {
   "cell_type": "code",
   "execution_count": 91,
   "outputs": [
    {
     "data": {
      "text/plain": "(0.0, 0.8237302616238594)"
     },
     "execution_count": 91,
     "metadata": {},
     "output_type": "execute_result"
    },
    {
     "data": {
      "text/plain": "<Figure size 1152x576 with 2 Axes>",
      "image/png": "[encoded data removed]"
     },
     "metadata": {
      "needs_background": "light"
     },
     "output_type": "display_data"
    }
   ],
   "source": [],
   "metadata": {
    "collapsed": false,
    "pycharm": {
     "name": "#%%\n"
    }
   }
  },
  {
   "cell_type": "code",
   "execution_count": null,
   "outputs": [],
   "source": [
    "def inspect_NaN(df):\n",
    "    is_nan=df.isna()\n",
    "    has_nan_row=is_nan.any(axis=1)\n",
    "    print(df[has_nan_row])"
   ],
   "metadata": {
    "collapsed": false,
    "pycharm": {
     "name": "#%%\n"
    }
   }
  }
 ],
 "metadata": {
  "kernelspec": {
   "display_name": "Python 3",
   "language": "python",
   "name": "python3"
  },
  "language_info": {
   "codemirror_mode": {
    "name": "ipython",
    "version": 2
   },
   "file_extension": ".py",
   "mimetype": "text/x-python",
   "name": "python",
   "nbconvert_exporter": "python",
   "pygments_lexer": "ipython2",
   "version": "2.7.6"
  }
 },
 "nbformat": 4,
 "nbformat_minor": 0
}