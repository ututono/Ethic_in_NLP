{
 "cells": [
  {
   "cell_type": "markdown",
   "source": [
    "# Homework 02"
   ],
   "metadata": {
    "collapsed": false,
    "pycharm": {
     "name": "#%% md\n"
    }
   }
  },
  {
   "cell_type": "code",
   "execution_count": 1,
   "outputs": [],
   "source": [
    "import pandas as pd\n",
    "import numpy as np\n",
    "import re\n",
    "import random\n",
    "import os\n",
    "import shutil\n",
    "# !pip install tensorflow_datasets\n",
    "# ! pip install tensorflow --upgrade\n",
    "import tensorflow as tf\n",
    "import tensorflow_datasets as tfds\n",
    "from tensorflow.keras import models, layers, preprocessing, optimizers, losses, metrics\n",
    "tfds.disable_progress_bar()\n",
    "import nltk\n",
    "from nltk.corpus import stopwords\n",
    "import keras.layers\n",
    "from keras import backend as K\n",
    "\n",
    "import matplotlib.pyplot as plt\n",
    "\n",
    "tf.get_logger().setLevel('ERROR')"
   ],
   "metadata": {
    "collapsed": false,
    "pycharm": {
     "name": "#%%\n"
    }
   }
  },
  {
   "cell_type": "markdown",
   "source": [
    "## Task 1"
   ],
   "metadata": {
    "collapsed": false,
    "pycharm": {
     "name": "#%% md\n"
    }
   }
  },
  {
   "cell_type": "code",
   "execution_count": 2,
   "outputs": [],
   "source": [
    "# Dataset can be download from the website https://strubell.github.io/teaching/11-830/assignments/files/civility_data.tar.gz\n",
    "def inspect_NaN(df):\n",
    "    '''To check nan value from the dataframe '''\n",
    "    is_nan=df.isna()\n",
    "    has_nan_row=is_nan.any(axis=1)\n",
    "    print(df[has_nan_row])\n",
    "dev_df=pd.read_csv(\"civility_data/dev.tsv\",sep=\"\\t\",header=0)\n",
    "mini_demodev_df=pd.read_csv(\"civility_data/mini_demographic_dev.tsv\",sep=\"\\t\",header=0)"
   ],
   "metadata": {
    "collapsed": false,
    "pycharm": {
     "name": "#%%\n"
    }
   }
  },
  {
   "cell_type": "code",
   "execution_count": 3,
   "outputs": [],
   "source": [
    "mini_demodev_df=mini_demodev_df.fillna(0)"
   ],
   "metadata": {
    "collapsed": false,
    "pycharm": {
     "name": "#%%\n"
    }
   }
  },
  {
   "cell_type": "code",
   "execution_count": 4,
   "outputs": [],
   "source": [
    "dev_df.loc[dev_df.perspective_score>0.8,\"label_ps\"]='OFF'\n",
    "dev_df.loc[dev_df.perspective_score<=0.8,\"label_ps\"]='NOT'"
   ],
   "metadata": {
    "collapsed": false,
    "pycharm": {
     "name": "#%%\n"
    }
   }
  },
  {
   "cell_type": "code",
   "execution_count": 5,
   "outputs": [],
   "source": [
    "mini_demodev_df.loc[mini_demodev_df.perspective_score>0.8,\"label_ps\"]='OFF'\n",
    "mini_demodev_df.loc[mini_demodev_df.perspective_score<=0.8,\"label_ps\"]=\"NOT\""
   ],
   "metadata": {
    "collapsed": false,
    "pycharm": {
     "name": "#%%\n"
    }
   }
  },
  {
   "cell_type": "code",
   "execution_count": 6,
   "outputs": [],
   "source": [
    "class Matrics:\n",
    "    def __init__(self,targets,gold):\n",
    "        self.tp=0\n",
    "        self.tn=0\n",
    "        self.fp=0\n",
    "        self.fn=0\n",
    "        self.targetsize=len(targets)\n",
    "        for i in range(len(targets)):\n",
    "            if targets[i] ==1. and gold[i] ==1.: # classify offensive claim as OFF\n",
    "                self.tp+=1\n",
    "            elif targets[i] == 0. and gold[i] == 0.: # classify non-offensive claim as NOT\n",
    "                self.tn+=1\n",
    "            elif targets[i] == 0. and gold[i] ==1.: # classify offensive claim as NOT\n",
    "                self.fp+=1\n",
    "            elif targets[i] == 1. and gold[i]== 0.: # classify non-offensive claim as OFF\n",
    "                self.fn+=1\n",
    "\n",
    "    def f1_score(self):\n",
    "        p=self.precision()\n",
    "        r=self.recall()\n",
    "        return 2*((p*r)/(p+r))\n",
    "\n",
    "    def precision(self):\n",
    "        tp=self.tp\n",
    "        fp=self.fp\n",
    "        return tp/(tp+fp)\n",
    "\n",
    "    def recall(self):\n",
    "        tp = self.tp\n",
    "        fn = self.fn\n",
    "        return tp/(tp+fn)\n",
    "\n",
    "    def accuracy(self,targets,gold):\n",
    "        right=0\n",
    "        for x,y in zip(targets,gold):\n",
    "            if x==y:\n",
    "                right+=1\n",
    "        return right/len(targets)\n",
    "\n",
    "    def PFR_score(self,mini_demodev_df):\n",
    "        white_misclass=len(mini_demodev_df.loc[(mini_demodev_df['demographic']=='White') & (mini_demodev_df['perspective_score']>0.8)]) # the number of label should be non-toxic classified as toxic though for White.\n",
    "        hispanic_misclass=len(mini_demodev_df.loc[(mini_demodev_df['demographic']=='Hispanic') & (mini_demodev_df['perspective_score']>0.8)]) # the number of label should be non-toxic classified as toxic though for Hispanic.\n",
    "        AA_misclass=len(mini_demodev_df.loc[(mini_demodev_df['demographic']=='AA') & (mini_demodev_df['perspective_score']>0.8)]) # the number of label should be non-toxic classified as toxic though for African American.\n",
    "        other_misclass=len(mini_demodev_df.loc[(mini_demodev_df['demographic']=='Other') & (mini_demodev_df['perspective_score']>0.8)]) # the number of label should be non-toxic classified as toxic though for other.\n",
    "\n",
    "        FPR_white=white_misclass/len(mini_demodev_df.loc[mini_demodev_df['demographic']=='White'])\n",
    "        FPR_hispanic=hispanic_misclass/len(mini_demodev_df.loc[mini_demodev_df['demographic']=='Hispanic'])\n",
    "        FPR_AA=AA_misclass/len(mini_demodev_df.loc[mini_demodev_df['demographic']=='AA'])\n",
    "        FPR_other=other_misclass/len(mini_demodev_df.loc[mini_demodev_df['demographic']=='Other'])\n",
    "        FPR_list=[FPR_white,FPR_hispanic,FPR_AA,FPR_other]\n",
    "        print(\"The FPR for the group White is {0}\\nThe FPR for the group Hispanic is {1}\\nThe FPR for the group AA is {2}\\nThe FPR for the group Other is {3}\".format(FPR_white,FPR_hispanic,FPR_AA,FPR_other))\n",
    "        return FPR_list\n",
    "\n",
    "    def summary(self,targets,golds):\n",
    "        print(\"The accuracy is {0}\".format(self.accuracy(targets,golds)))\n",
    "        print(\"The F1_score is {0}\".format(self.f1_score()))\n",
    "\n",
    "def normalize_label(labels):\n",
    "    '''\n",
    "    encode label to 0,1. 'OFF' to 1, 'NOT' to 0\n",
    "    '''\n",
    "    labels_encoded=[]\n",
    "    for label in labels:\n",
    "        if label=='OFF':\n",
    "            labels_encoded.append(1)\n",
    "        elif label=='NOT':\n",
    "            labels_encoded.append(0)\n",
    "    if len(labels_encoded)!=len(labels):\n",
    "        raise ValueError\n",
    "    else:\n",
    "        return labels_encoded\n"
   ],
   "metadata": {
    "collapsed": false,
    "pycharm": {
     "name": "#%%\n"
    }
   }
  },
  {
   "cell_type": "markdown",
   "source": [
    "### 1.1b"
   ],
   "metadata": {
    "collapsed": false,
    "pycharm": {
     "name": "#%% md\n"
    }
   }
  },
  {
   "cell_type": "code",
   "execution_count": 7,
   "outputs": [
    {
     "name": "stdout",
     "output_type": "stream",
     "text": [
      "------------------------------1.1.b Starting ------------------------------\n",
      "The accuracy is 0.7643504531722054\n",
      "The F1_score is 0.4851485148514852\n",
      "------------------------------1.1.b Ending ------------------------------\n"
     ]
    }
   ],
   "source": [
    "print('-'*30+'1.1.b Starting '+'-'*30)\n",
    "dev_y=dev_df.label.tolist()\n",
    "dev_X=dev_df.label_ps.tolist()\n",
    "dev_y=normalize_label(dev_y)\n",
    "dev_X=normalize_label(dev_X)\n",
    "m=Matrics(dev_X,dev_y)\n",
    "m.summary(dev_X,dev_y)\n",
    "print('-'*30+'1.1.b Ending '+'-'*30)"
   ],
   "metadata": {
    "collapsed": false,
    "pycharm": {
     "name": "#%%\n"
    }
   }
  },
  {
   "cell_type": "markdown",
   "source": [
    "### 1.1c"
   ],
   "metadata": {
    "collapsed": false,
    "pycharm": {
     "name": "#%% md\n"
    }
   }
  },
  {
   "cell_type": "code",
   "execution_count": 8,
   "outputs": [
    {
     "name": "stdout",
     "output_type": "stream",
     "text": [
      "------------------------------1.1.c Starting ------------------------------\n",
      "The FPR for the group White is 0.07319952774498228\n",
      "The FPR for the group Hispanic is 0.10149253731343283\n",
      "The FPR for the group AA is 0.1897590361445783\n",
      "The FPR for the group Other is 0.011764705882352941\n",
      "------------------------------1.1.c Ending ------------------------------\n"
     ]
    }
   ],
   "source": [
    "print('-'*30+'1.1.c Starting '+'-'*30)\n",
    "mini_demodev_X=mini_demodev_df.label_ps.tolist()\n",
    "mini_demodev_X=normalize_label(mini_demodev_X)\n",
    "mini_demodev_y=np.zeros(len(mini_demodev_X)).tolist()\n",
    "m=Matrics(mini_demodev_X,mini_demodev_y)\n",
    "m.PFR_score(mini_demodev_df)\n",
    "print('-'*30+'1.1.c Ending '+'-'*30)"
   ],
   "metadata": {
    "collapsed": false,
    "pycharm": {
     "name": "#%%\n"
    }
   }
  },
  {
   "cell_type": "markdown",
   "source": [
    "### 1.1d Briefly explain your results"
   ],
   "metadata": {
    "collapsed": false,
    "pycharm": {
     "name": "#%% md\n"
    }
   }
  },
  {
   "cell_type": "code",
   "execution_count": 9,
   "outputs": [
    {
     "name": "stdout",
     "output_type": "stream",
     "text": [
      "==============================1.2 Custom Classifier Starting ==============================\n"
     ]
    }
   ],
   "source": [
    "print('='*30+'1.2 Custom Classifier Starting '+'='*30)"
   ],
   "metadata": {
    "collapsed": false,
    "pycharm": {
     "name": "#%%\n"
    }
   }
  },
  {
   "cell_type": "code",
   "execution_count": 9,
   "outputs": [],
   "source": [],
   "metadata": {
    "collapsed": false,
    "pycharm": {
     "name": "#%%\n"
    }
   }
  },
  {
   "cell_type": "code",
   "execution_count": 10,
   "outputs": [],
   "source": [
    "random.seed(42)\n",
    "tf.random.set_seed(42)\n",
    "\n",
    "def normalize_label(labels):\n",
    "    '''\n",
    "    encode label to 0,1. 'OFF' to 1, 'NOT' to 0\n",
    "    '''\n",
    "    labels_encoded=[]\n",
    "    for label in labels:\n",
    "        if label=='OFF':\n",
    "            labels_encoded.append((0,1))\n",
    "        elif label=='NOT':\n",
    "            labels_encoded.append((1,0))\n",
    "    if len(labels_encoded)!=len(labels):\n",
    "        raise ValueError\n",
    "    else:\n",
    "        return labels_encoded\n",
    "\n",
    "\n",
    "def df_to_dataset(dataframe, shuffle=True, batch_size=32):\n",
    "  dataframe = dataframe.copy()\n",
    "  labels = dataframe.pop('label')\n",
    "  labels=np.array(normalize_label(labels))\n",
    "  ds = tf.data.Dataset.from_tensor_slices((dataframe.text.values,labels)) #create a dataset is to create it from a list\n",
    "  if shuffle:\n",
    "    ds = ds.shuffle(buffer_size=len(dataframe))\n",
    "  ds = ds.batch(batch_size) #Combines consecutive elements of this dataset into batches\n",
    "  ds = ds.prefetch(batch_size) # Creates a Dataset that prefetches (pre-processing) elements from this dataset.\n",
    "  return ds\n",
    "\n",
    "\n",
    "\n",
    "def read_data(filepath,batch_size=50):\n",
    "    df = pd.read_csv(filepath,sep='\\t',header=0)\n",
    "    batch_size=batch_size\n",
    "    df.text=df.text.apply(lambda x : preprocessing(x))\n",
    "\n",
    "    train_ds = df_to_dataset(df, batch_size=batch_size)\n",
    "\n",
    "    return train_ds\n",
    "\n",
    "def preprocessing(sentence):\n",
    "    # remove @User\n",
    "    # result=' '.join(re.sub(\"(@[A-Za-z0-9]+)\",\" \",sentence).split())\n",
    "    restr=r\"(?i)\\b((?:https?://|www\\d{0,3}[.]|[a-z0-9.\\-]+[.][a-z]{2,4}/)(?:[^\\s()<>]+|\\(([^\\s()<>]+|(\\([^\\s()<>]+\\)))*\\))+(?:\\(([^\\s()<>]+|(\\([^\\s()<>]+\\)))*\\)|[^\\s`!()\\[\\]{};:'\\\".,<>?«»“”‘’]))\"\n",
    "    text_noURL=re.sub(restr,\" \", sentence)\n",
    "    text_noHashTag=re.sub(\"#\",\" \", text_noURL)\n",
    "    text_noHashTag=re.sub(\"(@[A-Za-z0-9]+)\",\" \",text_noHashTag)\n",
    "    text_noPunc=re.sub(\"[^a-zA-Z#]\",\" \", text_noHashTag)\n",
    "    words=[word for word in text_noPunc.lower().split() if word not in stopwords.words(\"english\")]\n",
    "    result=' '.join(words)\n",
    "\n",
    "    # remove punctuation\n",
    "\n",
    "\n",
    "\n",
    "    return result\n",
    "\n",
    "# tmp='Yes you are but I was asking what is it @User about the movie ?🤷‍♂️👀\t'\n",
    "# preprocessing(tmp)\n",
    "# train=read_data(\"civility_data/train.tsv\")\n",
    "# dev=read_data(\"civility_data/dev.tsv\")\n"
   ],
   "metadata": {
    "collapsed": false,
    "pycharm": {
     "name": "#%%\n"
    }
   }
  },
  {
   "cell_type": "code",
   "execution_count": 11,
   "outputs": [],
   "source": [
    "# for example, label in train.take(1):\n",
    "#   print('text: ', example.numpy())\n",
    "#   print('label: ', label.numpy())\n",
    "# rep=[word for item in text for word in item.split()]\n",
    "# print(len(set(rep)))\n",
    "# VOCAB_SIZE = 10000\n",
    "# encoder = tf.keras.layers.TextVectorization(\n",
    "#     max_tokens=VOCAB_SIZE)\n",
    "# encoder.adapt(train.map(lambda text, label: text))\n",
    "# encoded_example = encoder(example)[:3].numpy()\n",
    "# encoded_example\n",
    "# len(encoder.get_vocabulary())"
   ],
   "metadata": {
    "collapsed": false,
    "pycharm": {
     "name": "#%%\n"
    }
   }
  },
  {
   "cell_type": "code",
   "execution_count": 12,
   "outputs": [
    {
     "name": "stdout",
     "output_type": "stream",
     "text": [
      "------------------------------Starting reading data and preprocessing------------------------------\n",
      "------------------------------End preprocessing------------------------------\n",
      "------------------------------Starting training model------------------------------\n",
      "Epoch 1/40\n",
      "265/265 [==============================] - 32s 59ms/step - loss: 0.6679 - accuracy: 0.6669 - f1_m: 0.1150 - precision_m: 0.3428 - recall_m: 0.0740 - val_loss: 0.6473 - val_accuracy: 0.6677 - val_f1_m: 0.4515 - val_precision_m: 0.6621 - val_recall_m: 0.3463\n",
      "Epoch 2/40\n",
      "265/265 [==============================] - 9s 34ms/step - loss: 0.6239 - accuracy: 0.6743 - f1_m: 0.4721 - precision_m: 0.7200 - recall_m: 0.3550 - val_loss: 0.6116 - val_accuracy: 0.6956 - val_f1_m: 0.5532 - val_precision_m: 0.7469 - val_recall_m: 0.4426\n",
      "Epoch 3/40\n",
      "265/265 [==============================] - 10s 36ms/step - loss: 0.4977 - accuracy: 0.7954 - f1_m: 0.6833 - precision_m: 0.8431 - recall_m: 0.5794 - val_loss: 0.5823 - val_accuracy: 0.7319 - val_f1_m: 0.6311 - val_precision_m: 0.7629 - val_recall_m: 0.5404\n",
      "Epoch 4/40\n",
      "265/265 [==============================] - 10s 36ms/step - loss: 0.3740 - accuracy: 0.8623 - f1_m: 0.8159 - precision_m: 0.8947 - recall_m: 0.7519 - val_loss: 0.6302 - val_accuracy: 0.7485 - val_f1_m: 0.7064 - val_precision_m: 0.7636 - val_recall_m: 0.6581\n",
      "Epoch 5/40\n",
      "265/265 [==============================] - 10s 38ms/step - loss: 0.2942 - accuracy: 0.8982 - f1_m: 0.8757 - precision_m: 0.9198 - recall_m: 0.8367 - val_loss: 0.7674 - val_accuracy: 0.7394 - val_f1_m: 0.7187 - val_precision_m: 0.7533 - val_recall_m: 0.6882\n",
      "Epoch 6/40\n",
      "265/265 [==============================] - 10s 37ms/step - loss: 0.2355 - accuracy: 0.9223 - f1_m: 0.9074 - precision_m: 0.9381 - recall_m: 0.8793 - val_loss: 0.8945 - val_accuracy: 0.7228 - val_f1_m: 0.6950 - val_precision_m: 0.7230 - val_recall_m: 0.6699\n",
      "------------------------------End training model------------------------------\n"
     ]
    },
    {
     "data": {
      "text/plain": "<Figure size 1152x576 with 2 Axes>",
      "image/png": "[encoded data removed]"
     },
     "metadata": {
      "needs_background": "light"
     },
     "output_type": "display_data"
    }
   ],
   "source": [
    "class RNNClassifier:\n",
    "    def __init__(self,encoder,modelsavepath='model/my_model.cpdk', modelloadpath='model/my_model.cpdk'):\n",
    "        self.model=self.build_model(encoder)\n",
    "        self.MODELSAVEPATH=modelsavepath\n",
    "        self.MODELSAVEPATH=modelloadpath\n",
    "\n",
    "    def build_model(self,encoder):\n",
    "        model = tf.keras.Sequential([\n",
    "            encoder,\n",
    "            tf.keras.layers.Embedding(len(encoder.get_vocabulary()), 64, mask_zero=True),\n",
    "            tf.keras.layers.Bidirectional(tf.keras.layers.LSTM(64,  return_sequences=True)),\n",
    "            tf.keras.layers.Bidirectional(tf.keras.layers.LSTM(32)),\n",
    "            tf.keras.layers.Dense(64, activation='relu'),\n",
    "            tf.keras.layers.Dropout(0.5),\n",
    "            tf.keras.layers.Dense(2)\n",
    "        ])\n",
    "\n",
    "\n",
    "        def recall_m(y_true, y_pred):\n",
    "            true_positives = K.sum(K.round(K.clip(y_true * y_pred, 0, 1)))\n",
    "            possible_positives = K.sum(K.round(K.clip(y_true, 0, 1)))\n",
    "            recall = true_positives / (possible_positives + K.epsilon())\n",
    "            return recall\n",
    "\n",
    "        def precision_m(y_true, y_pred):\n",
    "            true_positives = K.sum(K.round(K.clip(y_true * y_pred, 0, 1)))\n",
    "            predicted_positives = K.sum(K.round(K.clip(y_pred, 0, 1)))\n",
    "            precision = true_positives / (predicted_positives + K.epsilon())\n",
    "            return precision\n",
    "\n",
    "        def f1_m(y_true, y_pred):\n",
    "            precision = precision_m(y_true, y_pred)\n",
    "            recall = recall_m(y_true, y_pred)\n",
    "            return 2*((precision*recall)/(precision+recall+K.epsilon()))\n",
    "\n",
    "\n",
    "        model.compile(loss=tf.keras.losses.BinaryCrossentropy(from_logits=True),\n",
    "                      optimizer=tf.keras.optimizers.Adam(1e-4),\n",
    "                      metrics=['accuracy',f1_m,precision_m, recall_m])\n",
    "\n",
    "        return model\n",
    "\n",
    "    def train(self,train,dev,epochs=40):\n",
    "        callback_list=[\n",
    "            keras.callbacks.EarlyStopping(\n",
    "                monitor='val_accuracy',\n",
    "                patience=2,\n",
    "                mode=\"max\"\n",
    "            ),\n",
    "            keras.callbacks.ModelCheckpoint(\n",
    "                filepath=self.MODELSAVEPATH,\n",
    "                monitor='val_loss',\n",
    "                save_weights_only=True,\n",
    "                save_best_only=True,\n",
    "            )\n",
    "        ]\n",
    "        model=self.model\n",
    "        history = model.fit(train, epochs=epochs,validation_data=dev,callbacks=callback_list)\n",
    "        model.save_weights(self.MODELSAVEPATH)\n",
    "        self.loss_figure(history)\n",
    "        self.model=model\n",
    "\n",
    "    def load_weights(self):\n",
    "        self.model=self.load_weights(self.MODELSAVEPATH)\n",
    "\n",
    "    def loss_figure(self,history):\n",
    "        plt.figure(figsize=(16, 8))\n",
    "        plt.subplot(1, 2, 1)\n",
    "        self.plot_graphs(history, 'accuracy')\n",
    "        plt.ylim(None, 1)\n",
    "        plt.subplot(1, 2, 2)\n",
    "        self.plot_graphs(history, 'loss')\n",
    "        plt.ylim(0, None)\n",
    "\n",
    "    def plot_graphs(self,history, metric):\n",
    "      plt.plot(history.history[metric])\n",
    "      plt.plot(history.history['val_'+metric], '')\n",
    "      plt.xlabel(\"Epochs\")\n",
    "      plt.ylabel(metric)\n",
    "      plt.legend([metric, 'val_'+metric])\n",
    "\n",
    "\n",
    "\n",
    "\n",
    "print(\"-\"*30+\"Starting reading data and preprocessing\"+\"-\"*30)\n",
    "train=read_data(\"civility_data/train.tsv\",batch_size=40)\n",
    "dev=read_data(\"civility_data/dev.tsv\",batch_size=40)\n",
    "print(\"-\"*30+\"End preprocessing\"+\"-\"*30)\n",
    "\n",
    "print(\"-\"*30+\"Starting training model\"+\"-\"*30)\n",
    "VOCAB_SIZE = 10000\n",
    "encoder = tf.keras.layers.TextVectorization(max_tokens=VOCAB_SIZE)\n",
    "encoder.adapt(train.map(lambda text, label: text))\n",
    "classifier=RNNClassifier(encoder=encoder)\n",
    "classifier.train(train,dev)\n",
    "print(\"-\"*30+\"End training model\"+\"-\"*30)\n",
    "\n"
   ],
   "metadata": {
    "collapsed": false,
    "pycharm": {
     "name": "#%%\n"
    }
   }
  },
  {
   "cell_type": "code",
   "execution_count": 13,
   "outputs": [
    {
     "name": "stdout",
     "output_type": "stream",
     "text": [
      "34/34 [==============================] - 0s 9ms/step - loss: 0.8945 - accuracy: 0.7228 - f1_m: 0.7084 - precision_m: 0.7362 - recall_m: 0.6831\n",
      "The accuracy is 0.7228096723556519, the f1-score is 0.7083631157875061\n"
     ]
    }
   ],
   "source": [
    "loss, acc, f1_m, precision_m, recall_m=classifier.model.evaluate(dev)\n",
    "print(\"The accuracy is {0}, the f1-score is {1}\".format(acc,f1_m))"
   ],
   "metadata": {
    "collapsed": false,
    "pycharm": {
     "name": "#%%\n"
    }
   }
  },
  {
   "cell_type": "code",
   "execution_count": 14,
   "outputs": [
    {
     "name": "stdout",
     "output_type": "stream",
     "text": [
      "------------------------------1.2.b Starting ------------------------------\n",
      "159/159 [==============================] - 6s 6ms/step\n",
      "The FPR for the group White is 0.1881936245572609\n",
      "The FPR for the group Hispanic is 0.1880597014925373\n",
      "The FPR for the group AA is 0.3313253012048193\n",
      "The FPR for the group Other is 0.1588235294117647\n",
      "------------------------------1.2.b End ------------------------------\n"
     ]
    }
   ],
   "source": [
    "def decoder_label(vec_labels):\n",
    "    results=[]\n",
    "    for item in vec_labels:\n",
    "        results.append(np.argmax(item))\n",
    "    return results\n",
    "\n",
    "def PFR_score_RNN(mini_demodev_df):\n",
    "    white_misclass=len(mini_demodev_df.loc[(mini_demodev_df['demographic']=='White') & (mini_demodev_df['label_RNN']==1)]) # the number of label should be non-toxic classified as toxic though for White.\n",
    "    hispanic_misclass=len(mini_demodev_df.loc[(mini_demodev_df['demographic']=='Hispanic') & (mini_demodev_df['label_RNN']==1)]) # the number of label should be non-toxic classified as toxic though for Hispanic.\n",
    "    AA_misclass=len(mini_demodev_df.loc[(mini_demodev_df['demographic']=='AA') & (mini_demodev_df['label_RNN']==1)]) # the number of label should be non-toxic classified as toxic though for African American.\n",
    "    other_misclass=len(mini_demodev_df.loc[(mini_demodev_df['demographic']=='Other') & (mini_demodev_df['label_RNN']==1)]) # the number of label should be non-toxic classified as toxic though for other.\n",
    "\n",
    "    FPR_white=white_misclass/len(mini_demodev_df.loc[mini_demodev_df['demographic']=='White'])\n",
    "    FPR_hispanic=hispanic_misclass/len(mini_demodev_df.loc[mini_demodev_df['demographic']=='Hispanic'])\n",
    "    FPR_AA=AA_misclass/len(mini_demodev_df.loc[mini_demodev_df['demographic']=='AA'])\n",
    "    FPR_other=other_misclass/len(mini_demodev_df.loc[mini_demodev_df['demographic']=='Other'])\n",
    "    FPR_list=[FPR_white,FPR_hispanic,FPR_AA,FPR_other]\n",
    "    print(\"The FPR for the group White is {0}\\nThe FPR for the group Hispanic is {1}\\nThe FPR for the group AA is {2}\\nThe FPR for the group Other is {3}\".format(FPR_white,FPR_hispanic,FPR_AA,FPR_other))\n",
    "    return FPR_list\n",
    "\n",
    "print(\"-\"*30+\"1.2.b Starting \"+\"-\"*30)\n",
    "mini_demodev_df=pd.read_csv('civility_data/mini_demographic_dev.tsv',sep='\\t',header=0)\n",
    "mini_demodev_df.text=mini_demodev_df.text.apply(lambda x : preprocessing(x))\n",
    "result=classifier.model.predict(mini_demodev_df.text.tolist())\n",
    "mini_demodev_df['label_RNN']=decoder_label(result)\n",
    "PFR_score_RNN(mini_demodev_df)\n",
    "print(\"-\"*30+\"1.2.b End \"+\"-\"*30)"
   ],
   "metadata": {
    "collapsed": false,
    "pycharm": {
     "name": "#%%\n"
    }
   }
  }
 ],
 "metadata": {
  "kernelspec": {
   "display_name": "Python 3",
   "language": "python",
   "name": "python3"
  },
  "language_info": {
   "codemirror_mode": {
    "name": "ipython",
    "version": 2
   },
   "file_extension": ".py",
   "mimetype": "text/x-python",
   "name": "python",
   "nbconvert_exporter": "python",
   "pygments_lexer": "ipython2",
   "version": "2.7.6"
  }
 },
 "nbformat": 4,
 "nbformat_minor": 0
}