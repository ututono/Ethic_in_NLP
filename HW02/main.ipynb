{
 "cells": [
  {
   "cell_type": "code",
   "execution_count": 1,
   "metadata": {
    "collapsed": true,
    "pycharm": {
     "name": "#%%\n"
    }
   },
   "outputs": [
    {
     "ename": "ModuleNotFoundError",
     "evalue": "No module named 'tensorflow_hub'",
     "output_type": "error",
     "traceback": [
      "\u001B[1;31m---------------------------------------------------------------------------\u001B[0m",
      "\u001B[1;31mModuleNotFoundError\u001B[0m                       Traceback (most recent call last)",
      "Input \u001B[1;32mIn [1]\u001B[0m, in \u001B[0;36m<cell line: 9>\u001B[1;34m()\u001B[0m\n\u001B[0;32m      6\u001B[0m \u001B[38;5;28;01mimport\u001B[39;00m \u001B[38;5;21;01mshutil\u001B[39;00m\n\u001B[0;32m      8\u001B[0m \u001B[38;5;28;01mimport\u001B[39;00m \u001B[38;5;21;01mtensorflow\u001B[39;00m \u001B[38;5;28;01mas\u001B[39;00m \u001B[38;5;21;01mtf\u001B[39;00m\n\u001B[1;32m----> 9\u001B[0m \u001B[38;5;28;01mimport\u001B[39;00m \u001B[38;5;21;01mtensorflow_hub\u001B[39;00m \u001B[38;5;28;01mas\u001B[39;00m \u001B[38;5;21;01mhub\u001B[39;00m\n\u001B[0;32m     10\u001B[0m \u001B[38;5;28;01mimport\u001B[39;00m \u001B[38;5;21;01mtensorflow_text\u001B[39;00m \u001B[38;5;28;01mas\u001B[39;00m \u001B[38;5;21;01mtext\u001B[39;00m\n\u001B[0;32m     11\u001B[0m \u001B[38;5;28;01mfrom\u001B[39;00m \u001B[38;5;21;01mofficial\u001B[39;00m\u001B[38;5;21;01m.\u001B[39;00m\u001B[38;5;21;01mnlp\u001B[39;00m \u001B[38;5;28;01mimport\u001B[39;00m optimization  \u001B[38;5;66;03m# to create AdamW optimizer\u001B[39;00m\n",
      "\u001B[1;31mModuleNotFoundError\u001B[0m: No module named 'tensorflow_hub'"
     ]
    }
   ],
   "source": [
    "import pandas as pd\n",
    "import numpy as np\n",
    "import re\n",
    "\n",
    "import os\n",
    "import shutil\n",
    "\n",
    "import tensorflow as tf\n",
    "import tensorflow_hub as hub\n",
    "import tensorflow_text as text\n",
    "from official.nlp import optimization  # to create AdamW optimizer\n",
    "\n",
    "import matplotlib.pyplot as plt\n",
    "\n",
    "tf.get_logger().setLevel('ERROR')"
   ]
  },
  {
   "cell_type": "code",
   "execution_count": 2,
   "outputs": [],
   "source": [
    "dev_df=pd.read_csv(\"civility_data/dev.tsv\",sep=\"\\t\",header=0)\n",
    "mini_demodev_df=pd.read_csv(\"civility_data/mini_demographic_dev.tsv\",sep=\"\\t\",header=0)"
   ],
   "metadata": {
    "collapsed": false,
    "pycharm": {
     "name": "#%%\n"
    }
   }
  },
  {
   "cell_type": "code",
   "execution_count": 3,
   "outputs": [],
   "source": [
    "mini_demodev_df=mini_demodev_df.fillna(0)"
   ],
   "metadata": {
    "collapsed": false,
    "pycharm": {
     "name": "#%%\n"
    }
   }
  },
  {
   "cell_type": "code",
   "execution_count": 4,
   "outputs": [],
   "source": [
    "dev_df.loc[dev_df.perspective_score>0.8,\"label_ps\"]='OFF'\n",
    "dev_df.loc[dev_df.perspective_score<=0.8,\"label_ps\"]='NOT'"
   ],
   "metadata": {
    "collapsed": false,
    "pycharm": {
     "name": "#%%\n"
    }
   }
  },
  {
   "cell_type": "code",
   "execution_count": 5,
   "outputs": [],
   "source": [
    "mini_demodev_df.loc[mini_demodev_df.perspective_score>0.8,\"label_ps\"]='OFF'\n",
    "mini_demodev_df.loc[mini_demodev_df.perspective_score<=0.8,\"label_ps\"]=\"NOT\""
   ],
   "metadata": {
    "collapsed": false,
    "pycharm": {
     "name": "#%%\n"
    }
   }
  },
  {
   "cell_type": "code",
   "execution_count": 17,
   "outputs": [],
   "source": [
    "class Matrics:\n",
    "    def __init__(self,targets,gold):\n",
    "        self.tp=0\n",
    "        self.tn=0\n",
    "        self.fp=0\n",
    "        self.fn=0\n",
    "        self.targetsize=len(targets)\n",
    "        for i in range(len(targets)):\n",
    "            if targets[i] ==1. and gold[i] ==1.: # classify offensive claim as OFF\n",
    "                self.tp+=1\n",
    "            elif targets[i] == 0. and gold[i] == 0.: # classify non-offensive claim as NOT\n",
    "                self.tn+=1\n",
    "            elif targets[i] == 0. and gold[i] ==1.: # classify offensive claim as NOT\n",
    "                self.fp+=1\n",
    "            elif targets[i] == 1. and gold[i]== 0.: # classify non-offensive claim as OFF\n",
    "                self.fn+=1\n",
    "\n",
    "    def f1_score(self):\n",
    "        p=self.precision()\n",
    "        r=self.recall()\n",
    "        return 2*((p*r)/(p+r))\n",
    "\n",
    "    def precision(self):\n",
    "        tp=self.tp\n",
    "        fp=self.fp\n",
    "        return tp/(tp+fp)\n",
    "\n",
    "    def recall(self):\n",
    "        tp = self.tp\n",
    "        fn = self.fn\n",
    "        return tp/(tp+fn)\n",
    "\n",
    "    def accuracy(self,targets,gold):\n",
    "        dif=0\n",
    "        for x,y in zip(targets,gold):\n",
    "            if x!=y:\n",
    "                dif+=1\n",
    "        return dif/len(targets)\n",
    "\n",
    "    def PFR_score(self):\n",
    "        return self.fn/self.targetsize\n",
    "\n",
    "    def summary(self,targets,golds):\n",
    "        print(\"The accuracy is {0}\".format(self.accuracy(targets,golds)))\n",
    "        print(\"The F1_score is {0}\".format(self.f1_score()))\n",
    "\n",
    "def normalize_label(labels):\n",
    "    '''\n",
    "    encode label to 0,1. 'OFF' to 1, 'NOT' to 0\n",
    "    '''\n",
    "    labels_encoded=[]\n",
    "    for label in labels:\n",
    "        if label=='OFF':\n",
    "            labels_encoded.append(1)\n",
    "        elif label=='NOT':\n",
    "            labels_encoded.append(0)\n",
    "    if len(labels_encoded)!=len(labels):\n",
    "        raise ValueError\n",
    "    else:\n",
    "        return labels_encoded\n"
   ],
   "metadata": {
    "collapsed": false,
    "pycharm": {
     "name": "#%%\n"
    }
   }
  },
  {
   "cell_type": "code",
   "execution_count": 18,
   "outputs": [
    {
     "name": "stdout",
     "output_type": "stream",
     "text": [
      "------------------------------1.1.b Starting ------------------------------\n",
      "The accuracy is 0.23564954682779457\n",
      "The F1_score is 0.4851485148514852\n",
      "------------------------------1.1.b Ending ------------------------------\n"
     ]
    }
   ],
   "source": [
    "print('-'*30+'1.1.b Starting '+'-'*30)\n",
    "dev_y=dev_df.label.tolist()\n",
    "dev_X=dev_df.label_ps.tolist()\n",
    "dev_y=normalize_label(dev_y)\n",
    "dev_X=normalize_label(dev_X)\n",
    "m=Matrics(dev_X,dev_y)\n",
    "m.summary(dev_X,dev_y)\n",
    "print('-'*30+'1.1.b Ending '+'-'*30)"
   ],
   "metadata": {
    "collapsed": false,
    "pycharm": {
     "name": "#%%\n"
    }
   }
  },
  {
   "cell_type": "code",
   "execution_count": 20,
   "outputs": [
    {
     "name": "stdout",
     "output_type": "stream",
     "text": [
      "------------------------------1.1.c Starting ------------------------------\n",
      "The False Positive Rate is 0.08063880126182965\n",
      "------------------------------1.1.c Ending ------------------------------\n"
     ]
    }
   ],
   "source": [
    "print('-'*30+'1.1.c Starting '+'-'*30)\n",
    "mini_demodev_X=mini_demodev_df.label_ps.tolist()\n",
    "mini_demodev_X=normalize_label(mini_demodev_X)\n",
    "mini_demodev_y=np.zeros(len(mini_demodev_X)).tolist()\n",
    "m=Matrics(mini_demodev_X,mini_demodev_y)\n",
    "print(\"The False Positive Rate is {0}\".format(m.PFR_score()))\n",
    "print('-'*30+'1.1.c Ending '+'-'*30)"
   ],
   "metadata": {
    "collapsed": false,
    "pycharm": {
     "name": "#%%\n"
    }
   }
  },
  {
   "cell_type": "code",
   "execution_count": 22,
   "outputs": [
    {
     "name": "stdout",
     "output_type": "stream",
     "text": [
      "==============================1.1.c Custom Classifier Starting ==============================\n"
     ]
    }
   ],
   "source": [
    "print('='*30+'1.2 Custom Classifier Starting '+'='*30)"
   ],
   "metadata": {
    "collapsed": false,
    "pycharm": {
     "name": "#%%\n"
    }
   }
  },
  {
   "cell_type": "code",
   "execution_count": 33,
   "outputs": [
    {
     "name": "stdout",
     "output_type": "stream",
     "text": [
      "Who really listens to those post menapausal angry yentas except hardcore liberals and femanazis?\n"
     ]
    }
   ],
   "source": [
    "def read_data(filepath):\n",
    "    return pd.read_csv(filepath,sep='\\t',header=0)\n",
    "\n",
    "def preprocessing(sentence):\n",
    "    result=' '.join(re.sub(\"(@[A-Za-z0-9]+)\",\" \",sentence).split())\n",
    "    print(result)\n",
    "\n",
    "def word_embedding():\n",
    "\n",
    "\n",
    "\n",
    "\n",
    "\n",
    "tmp='@USER @USER Who really listens to those post menapausal angry yentas except hardcore liberals and femanazis?'\n",
    "preprocessing(tmp)"
   ],
   "metadata": {
    "collapsed": false,
    "pycharm": {
     "name": "#%%\n"
    }
   }
  },
  {
   "cell_type": "code",
   "execution_count": null,
   "outputs": [],
   "source": [],
   "metadata": {
    "collapsed": false,
    "pycharm": {
     "name": "#%%\n"
    }
   }
  },
  {
   "cell_type": "code",
   "execution_count": 23,
   "outputs": [
    {
     "name": "stdout",
     "output_type": "stream",
     "text": [
      "==============================1.2 Ending ==============================\n"
     ]
    }
   ],
   "source": [
    "\n",
    "print('='*30+'1.2 Ending '+'='*30)"
   ],
   "metadata": {
    "collapsed": false,
    "pycharm": {
     "name": "#%%\n"
    }
   }
  },
  {
   "cell_type": "code",
   "execution_count": null,
   "outputs": [],
   "source": [],
   "metadata": {
    "collapsed": false,
    "pycharm": {
     "name": "#%%\n"
    }
   }
  },
  {
   "cell_type": "code",
   "execution_count": null,
   "outputs": [],
   "source": [
    "def inspect_NaN(df):\n",
    "    is_nan=df.isna()\n",
    "    has_nan_row=is_nan.any(axis=1)\n",
    "    print(df[has_nan_row])"
   ],
   "metadata": {
    "collapsed": false,
    "pycharm": {
     "name": "#%%\n"
    }
   }
  }
 ],
 "metadata": {
  "kernelspec": {
   "display_name": "Python 3",
   "language": "python",
   "name": "python3"
  },
  "language_info": {
   "codemirror_mode": {
    "name": "ipython",
    "version": 2
   },
   "file_extension": ".py",
   "mimetype": "text/x-python",
   "name": "python",
   "nbconvert_exporter": "python",
   "pygments_lexer": "ipython2",
   "version": "2.7.6"
  }
 },
 "nbformat": 4,
 "nbformat_minor": 0
}