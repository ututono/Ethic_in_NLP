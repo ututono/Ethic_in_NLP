{
 "cells": [
  {
   "cell_type": "markdown",
   "id": "d92ac758-107f-468a-b59f-8ab5a0fa4d71",
   "metadata": {
    "pycharm": {
     "name": "#%% md\n"
    }
   },
   "source": [
    "# Ethics for NLP: Spring 2022\n",
    "## Homework 3: Low Ressource Languages"
   ]
  },
  {
   "cell_type": "markdown",
   "id": "6fad41e5",
   "metadata": {
    "pycharm": {
     "name": "#%% md\n"
    }
   },
   "source": [
    "### Imports and configuration"
   ]
  },
  {
   "cell_type": "code",
   "execution_count": 4,
   "id": "8531a96e",
   "metadata": {
    "pycharm": {
     "name": "#%%\n"
    }
   },
   "outputs": [],
   "source": [
    "# All import statements defined here\n",
    "# ----------------\n",
    "# !pip install torch\n",
    "# !pip install torchvision\n",
    "# !pip install torchtext==0.9.0\n",
    "import torch\n",
    "import torch.nn as nn\n",
    "import torch.optim as optim\n",
    "\n",
    "from torchtext.legacy import data\n",
    "from torchtext.legacy import datasets\n",
    "\n",
    "import numpy as np\n",
    "\n",
    "import time\n",
    "import random\n",
    "import os\n",
    "\n",
    "# set a fixed seed for reproducibility\n",
    "SEED = 1234\n",
    "\n",
    "random.seed(SEED)\n",
    "np.random.seed(SEED)\n",
    "torch.manual_seed(SEED)\n",
    "torch.backends.cudnn.deterministic = True\n",
    "\n",
    "# hyperparameters\n",
    "params = {   \n",
    "    \"embedding_dim\": 100,\n",
    "    \"hidden_dim\":128,\n",
    "    \"n_layers\":2,\n",
    "    \"bidirectional\": True,\n",
    "    \"dropout\":0.25,\n",
    "    \"batch_size\": 128\n",
    "}"
   ]
  },
  {
   "cell_type": "markdown",
   "id": "5863c71d",
   "metadata": {
    "pycharm": {
     "name": "#%% md\n"
    }
   },
   "source": [
    "### BiLSTM model"
   ]
  },
  {
   "cell_type": "code",
   "execution_count": 5,
   "id": "b9489a0b",
   "metadata": {
    "pycharm": {
     "name": "#%%\n"
    }
   },
   "outputs": [],
   "source": [
    "# Note: do not change anything in this code,\n",
    "# it can lead to incorrect results in the final accuracy calculation\n",
    "# ----------------\n",
    "\n",
    "class BiLSTMPOSTagger(nn.Module):\n",
    "    def __init__(\n",
    "        self,\n",
    "        input_dim,\n",
    "        embedding_dim,\n",
    "        hidden_dim,\n",
    "        output_dim,\n",
    "        n_layers,\n",
    "        bidirectional,\n",
    "        dropout,\n",
    "        pad_idx,\n",
    "    ):\n",
    "\n",
    "        super().__init__()\n",
    "\n",
    "        self.embedding = nn.Embedding(input_dim, embedding_dim, padding_idx=pad_idx)\n",
    "\n",
    "        self.lstm = nn.LSTM(\n",
    "            embedding_dim,\n",
    "            hidden_dim,\n",
    "            num_layers=n_layers,\n",
    "            bidirectional=bidirectional,\n",
    "            dropout=dropout if n_layers > 1 else 0,\n",
    "        )\n",
    "\n",
    "        self.fc = nn.Linear(hidden_dim * 2 if bidirectional else hidden_dim, output_dim)\n",
    "\n",
    "        self.dropout = nn.Dropout(dropout)\n",
    "\n",
    "    def forward(self, text):\n",
    "\n",
    "        # pass text through embedding layer\n",
    "        embedded = self.dropout(self.embedding(text))\n",
    "\n",
    "        # pass embeddings into LSTM\n",
    "        outputs, (hidden, cell) = self.lstm(embedded)\n",
    "\n",
    "        # outputs holds the backward and forward hidden states in the final layer\n",
    "        # hidden and cell are the backward and forward hidden and cell states at the final time-step\n",
    "\n",
    "        # we use our outputs to make a prediction of what the tag should be\n",
    "        predictions = self.fc(self.dropout(outputs))\n",
    "\n",
    "        return predictions"
   ]
  },
  {
   "cell_type": "markdown",
   "id": "1ac97373",
   "metadata": {
    "pycharm": {
     "name": "#%% md\n"
    }
   },
   "source": [
    "### Training and evaluation functions"
   ]
  },
  {
   "cell_type": "code",
   "execution_count": 6,
   "id": "5ee0d370",
   "metadata": {
    "pycharm": {
     "name": "#%%\n"
    }
   },
   "outputs": [],
   "source": [
    "# function used to train or evaluate model\n",
    "# depending on the input parameters\n",
    "\n",
    "def run(mode, lang, model_name):\n",
    "    print(\"Running model in {} mode with lang: {}\".format(mode, lang))\n",
    "    TEXT = data.Field(lower=True)\n",
    "    UD_TAGS = data.Field()\n",
    "\n",
    "    fields = ((\"text\", TEXT), (\"udtags\", UD_TAGS))\n",
    "\n",
    "    train_data, valid_data, test_data = datasets.UDPOS.splits(\n",
    "        fields=fields,\n",
    "        path=os.path.join(\"data\", lang),\n",
    "        train=\"{}-ud-train.conll\".format(lang),\n",
    "        validation=\"{}-ud-dev.conll\".format(lang),\n",
    "        test=\"{}-ud-test.conll\".format(lang),\n",
    "    )\n",
    "    MIN_FREQ = 2\n",
    "    print(os.path.join(\"data\", lang))\n",
    "\n",
    "    TEXT.build_vocab(train_data, min_freq=MIN_FREQ)\n",
    "    UD_TAGS.build_vocab(train_data)\n",
    "\n",
    "    if mode == \"train\":\n",
    "        print(f\"Unique tokens in TEXT vocabulary: {len(TEXT.vocab)}\")\n",
    "        print(f\"Unique tokens in UD_TAG vocabulary: {len(UD_TAGS.vocab)}\")\n",
    "        print()\n",
    "        print(f\"Number of training examples: {len(train_data)}\")\n",
    "        print(f\"Number of validation examples: {len(valid_data)}\")\n",
    "\n",
    "        print(f\"Number of tokens in the training set: {sum(TEXT.vocab.freqs.values())}\")\n",
    "\n",
    "    print(f\"Number of testing examples: {len(test_data)}\")\n",
    "\n",
    "    if mode == \"train\":\n",
    "        print(\"Tag\\t\\tCount\\t\\tPercentage\\n\")\n",
    "        for tag, count, percent in tag_percentage(UD_TAGS.vocab.freqs.most_common()):\n",
    "            print(f\"{tag}\\t\\t{count}\\t\\t{percent*100:4.1f}%\")\n",
    "\n",
    "    device = torch.device(\"cuda\" if torch.cuda.is_available() else \"cpu\")\n",
    "    train_iterator, valid_iterator, test_iterator = data.BucketIterator.splits(\n",
    "        (train_data, valid_data, test_data),\n",
    "        batch_size=params[\"batch_size\"],\n",
    "        device=device,\n",
    "    )\n",
    "\n",
    "    PAD_IDX = TEXT.vocab.stoi[TEXT.pad_token]\n",
    "    model = BiLSTMPOSTagger(\n",
    "        input_dim=len(TEXT.vocab),\n",
    "        embedding_dim=params[\"embedding_dim\"],\n",
    "        hidden_dim=params[\"hidden_dim\"],\n",
    "        output_dim=len(UD_TAGS.vocab),\n",
    "        n_layers=params[\"n_layers\"],\n",
    "        bidirectional=params[\"bidirectional\"],\n",
    "        dropout=params[\"dropout\"],\n",
    "        pad_idx=PAD_IDX,\n",
    "    )\n",
    "\n",
    "    if mode == \"train\":\n",
    "\n",
    "        def init_weights(m):\n",
    "            for name, param in m.named_parameters():\n",
    "                nn.init.normal_(param.data, mean=0, std=0.1)\n",
    "\n",
    "        def count_parameters(model):\n",
    "            return sum(p.numel() for p in model.parameters() if p.requires_grad)\n",
    "\n",
    "        model.apply(init_weights)\n",
    "        print(f\"The model has {count_parameters(model):,} trainable parameters\")\n",
    "        model.embedding.weight.data[PAD_IDX] = torch.zeros(params[\"embedding_dim\"])\n",
    "        optimizer = optim.Adam(model.parameters())\n",
    "\n",
    "    TAG_PAD_IDX = UD_TAGS.vocab.stoi[UD_TAGS.pad_token]\n",
    "    TAG_UNK_IDX = UD_TAGS.vocab.unk_index\n",
    "    criterion = nn.CrossEntropyLoss(ignore_index=TAG_PAD_IDX)\n",
    "\n",
    "    model = model.to(device)\n",
    "    criterion = criterion.to(device)\n",
    "\n",
    "    if mode == \"train\":\n",
    "        N_EPOCHS = 10\n",
    "        best_valid_loss = float(\"inf\")\n",
    "        for epoch in range(N_EPOCHS):\n",
    "            start_time = time.time()\n",
    "            train_loss, train_acc = train(\n",
    "                model,\n",
    "                train_iterator,\n",
    "                optimizer,\n",
    "                criterion,\n",
    "                TAG_PAD_IDX,\n",
    "                TAG_UNK_IDX,\n",
    "            )\n",
    "            valid_loss, valid_acc = evaluate(\n",
    "                model, valid_iterator, criterion, TAG_PAD_IDX, TAG_UNK_IDX\n",
    "            )\n",
    "            end_time = time.time()\n",
    "\n",
    "            epoch_mins, epoch_secs = epoch_time(start_time, end_time)\n",
    "            if valid_loss < best_valid_loss:\n",
    "                best_valid_loss = valid_loss\n",
    "                torch.save(\n",
    "                    model.state_dict(), \"saved_models/{}.pt\".format(model_name)\n",
    "                )\n",
    "\n",
    "            print(f\"Epoch: {epoch+1:02} | Epoch Time: {epoch_mins}m {epoch_secs}s\")\n",
    "            print(f\"\\tTrain Loss: {train_loss:.3f} | Train Acc: {train_acc*100:.2f}%\")\n",
    "            print(f\"\\t Val. Loss: {valid_loss:.3f} |  Val. Acc: {valid_acc*100:.2f}%\")\n",
    "\n",
    "    try:\n",
    "        model.load_state_dict(torch.load(\"saved_models/{}.pt\".format(model_name)))\n",
    "    except Exception as e:\n",
    "        print(\n",
    "            \"Model file `{}` doesn't exist. You need to train the model by running this code in train mode.\".format(\n",
    "                \"saved_models/{}.pt\".format(model_name)\n",
    "            )\n",
    "        )\n",
    "        return\n",
    "\n",
    "    test_loss, test_acc = evaluate(\n",
    "        model, test_iterator, criterion, TAG_PAD_IDX, TAG_UNK_IDX\n",
    "    )\n",
    "    print(f\"Test Loss: {test_loss:.3f} |  Test Acc: {test_acc*100:.2f}%\")\n",
    "\n",
    "\n",
    "def tag_percentage(tag_counts):\n",
    "    total_count = sum([count for tag, count in tag_counts])\n",
    "    tag_counts_percentages = [\n",
    "        (tag, count, count / total_count) for tag, count in tag_counts\n",
    "    ]\n",
    "    return tag_counts_percentages\n",
    "\n",
    "\n",
    "def categorical_accuracy(preds, y, tag_pad_idx, tag_unk_idx):\n",
    "    max_preds = preds.argmax(\n",
    "        dim=1, keepdim=True\n",
    "    )\n",
    "    non_pad_elements = torch.nonzero((y != tag_pad_idx) & (y != tag_unk_idx))\n",
    "    correct = max_preds[non_pad_elements].squeeze(1).eq(y[non_pad_elements])\n",
    "    return correct.float().sum(), y[non_pad_elements].shape[0]\n",
    "\n",
    "\n",
    "def train(model, iterator, optimizer, criterion, tag_pad_idx, tag_unk_idx):\n",
    "\n",
    "    epoch_loss = 0\n",
    "    epoch_correct = 0\n",
    "    epoch_n_label = 0\n",
    "\n",
    "    model.train()\n",
    "\n",
    "    for batch in iterator:\n",
    "\n",
    "        text = batch.text\n",
    "        tags = batch.udtags\n",
    "\n",
    "        optimizer.zero_grad()\n",
    "\n",
    "        predictions = model(text)\n",
    "\n",
    "        predictions = predictions.view(-1, predictions.shape[-1])\n",
    "        tags = tags.view(-1)\n",
    "\n",
    "        loss = criterion(predictions, tags)\n",
    "\n",
    "        correct, n_labels = categorical_accuracy(\n",
    "            predictions, tags, tag_pad_idx, tag_unk_idx\n",
    "        )\n",
    "\n",
    "        loss.backward()\n",
    "        optimizer.step()\n",
    "\n",
    "        epoch_loss += loss.item()\n",
    "        epoch_correct += correct.item()\n",
    "        epoch_n_label += n_labels\n",
    "\n",
    "    return epoch_loss / len(iterator), epoch_correct / epoch_n_label\n",
    "\n",
    "\n",
    "def evaluate(model, iterator, criterion, tag_pad_idx, tag_unk_idx):\n",
    "\n",
    "    epoch_loss = 0\n",
    "    epoch_correct = 0\n",
    "    epoch_n_label = 0\n",
    "\n",
    "    model.eval()\n",
    "\n",
    "    with torch.no_grad():\n",
    "\n",
    "        for batch in iterator:\n",
    "\n",
    "            text = batch.text\n",
    "            tags = batch.udtags\n",
    "\n",
    "            predictions = model(text)\n",
    "\n",
    "            predictions = predictions.view(-1, predictions.shape[-1])\n",
    "            tags = tags.view(-1)\n",
    "\n",
    "            loss = criterion(predictions, tags)\n",
    "\n",
    "            correct, n_labels = categorical_accuracy(\n",
    "                predictions, tags, tag_pad_idx, tag_unk_idx\n",
    "            )\n",
    "\n",
    "            epoch_loss += loss.item()\n",
    "            epoch_correct += correct.item()\n",
    "            epoch_n_label += n_labels\n",
    "\n",
    "    return epoch_loss / len(iterator), epoch_correct / epoch_n_label\n",
    "\n",
    "\n",
    "def epoch_time(start_time, end_time):\n",
    "    elapsed_time = end_time - start_time\n",
    "    elapsed_mins = int(elapsed_time / 60)\n",
    "    elapsed_secs = int(elapsed_time - (elapsed_mins * 60))\n",
    "    return elapsed_mins, elapsed_secs\n"
   ]
  },
  {
   "cell_type": "markdown",
   "id": "f2282e8c",
   "metadata": {
    "pycharm": {
     "name": "#%% md\n"
    }
   },
   "source": [
    "### Task 1 (10 points)"
   ]
  },
  {
   "cell_type": "markdown",
   "id": "fc7b3c92",
   "metadata": {
    "pycharm": {
     "name": "#%% md\n"
    }
   },
   "source": [
    "#### Evaluate the model on the english data (2 points)"
   ]
  },
  {
   "cell_type": "code",
   "execution_count": 7,
   "id": "50d7a911",
   "metadata": {
    "pycharm": {
     "name": "#%%\n"
    }
   },
   "outputs": [],
   "source": [
    "# english\n",
    "\n",
    "model=BiLSTMPOSTagger()"
   ]
  },
  {
   "cell_type": "markdown",
   "id": "301e9b4d",
   "metadata": {
    "pycharm": {
     "name": "#%% md\n"
    }
   },
   "source": [
    "#### For the rest of this task, train and then evaluate the model on the trained data for the languages in each code cell (8 points)"
   ]
  },
  {
   "cell_type": "code",
   "execution_count": 8,
   "id": "7d126933",
   "metadata": {
    "pycharm": {
     "name": "#%%\n"
    }
   },
   "outputs": [],
   "source": [
    "# czech"
   ]
  },
  {
   "cell_type": "code",
   "execution_count": 9,
   "id": "b9f61c83",
   "metadata": {
    "pycharm": {
     "name": "#%%\n"
    }
   },
   "outputs": [],
   "source": [
    "# spanish"
   ]
  },
  {
   "cell_type": "code",
   "execution_count": 10,
   "id": "28ce802b",
   "metadata": {
    "pycharm": {
     "name": "#%%\n"
    }
   },
   "outputs": [],
   "source": [
    "# arabic"
   ]
  },
  {
   "cell_type": "code",
   "execution_count": 11,
   "id": "5f37b5d2",
   "metadata": {
    "pycharm": {
     "name": "#%%\n"
    }
   },
   "outputs": [],
   "source": [
    "# afrikaans"
   ]
  },
  {
   "cell_type": "code",
   "execution_count": 12,
   "id": "228e0b5c",
   "metadata": {
    "pycharm": {
     "name": "#%%\n"
    }
   },
   "outputs": [],
   "source": [
    "# lithuanian"
   ]
  },
  {
   "cell_type": "code",
   "execution_count": 13,
   "id": "19605f62",
   "metadata": {
    "pycharm": {
     "name": "#%%\n"
    }
   },
   "outputs": [],
   "source": [
    "# armenian"
   ]
  },
  {
   "cell_type": "code",
   "execution_count": 14,
   "id": "946d76e6",
   "metadata": {
    "pycharm": {
     "name": "#%%\n"
    }
   },
   "outputs": [],
   "source": [
    "# tamil"
   ]
  },
  {
   "cell_type": "markdown",
   "id": "bc666bb8",
   "metadata": {
    "pycharm": {
     "name": "#%% md\n"
    }
   },
   "source": [
    "### Task 2 - Discussion (10 points)\n",
    "In this task we will discuss the received results from your evaluation. \n",
    "Each question has an additional markdown cell below for the answer. Please use it and put in you answer there."
   ]
  },
  {
   "cell_type": "markdown",
   "id": "8d293d04",
   "metadata": {
    "pycharm": {
     "name": "#%% md\n"
    }
   },
   "source": [
    "##### Question 1: How the performance changes accross language families and available dataset size? Make a conclusion of how the model's prediction depends on the available data. (2 point)\n"
   ]
  },
  {
   "cell_type": "markdown",
   "id": "0e11c20c",
   "metadata": {
    "pycharm": {
     "name": "#%% md\n"
    }
   },
   "source": [
    "Q1 answer"
   ]
  },
  {
   "cell_type": "markdown",
   "id": "c6bad4ba",
   "metadata": {
    "pycharm": {
     "name": "#%% md\n"
    }
   },
   "source": [
    "##### Question 2: What role does the training set size plays for the model? Which problem regarding training sets occurs when you deal with the low-resource languages? (2 points)"
   ]
  },
  {
   "cell_type": "markdown",
   "id": "0f353a4b",
   "metadata": {
    "pycharm": {
     "name": "#%% md\n"
    }
   },
   "source": [
    "Q2 answer"
   ]
  },
  {
   "cell_type": "markdown",
   "id": "f6ec7e44",
   "metadata": {
    "pycharm": {
     "name": "#%% md\n"
    }
   },
   "source": [
    "##### Question 3: What do the parameters \"n_layers\", \"bidirectional\" and \"dropout\" (variable \"params\" in the first code cell) of the LSTM model mean? According to your research results please answer the following questions regarding the low-resource languages: (4 points)\n",
    "#### - What happens when you increase the variable n_layers and why? \n",
    "#### - What changes when the model is unidirectional and why? \n",
    "#### - What happens when you increase the dropout and why?"
   ]
  },
  {
   "cell_type": "markdown",
   "id": "5f5a767f",
   "metadata": {
    "pycharm": {
     "name": "#%% md\n"
    }
   },
   "source": [
    "Q3 answer"
   ]
  },
  {
   "cell_type": "markdown",
   "id": "899f2eba",
   "metadata": {
    "pycharm": {
     "name": "#%% md\n"
    }
   },
   "source": [
    "##### Question 4: Define the term \"label noise\". After that, please answer what happens if the labels in the training data are noisy? (2 points)"
   ]
  },
  {
   "cell_type": "markdown",
   "id": "a41f495d",
   "metadata": {
    "pycharm": {
     "name": "#%% md\n"
    }
   },
   "source": [
    "Q4 answer"
   ]
  }
 ],
 "metadata": {
  "kernelspec": {
   "display_name": "Python 3 (ipykernel)",
   "language": "python",
   "name": "python3"
  },
  "language_info": {
   "codemirror_mode": {
    "name": "ipython",
    "version": 3
   },
   "file_extension": ".py",
   "mimetype": "text/x-python",
   "name": "python",
   "nbconvert_exporter": "python",
   "pygments_lexer": "ipython3",
   "version": "3.9.12"
  }
 },
 "nbformat": 4,
 "nbformat_minor": 5
}